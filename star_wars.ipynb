{
 "cells": [
  {
   "cell_type": "code",
   "execution_count": 1,
   "metadata": {
    "collapsed": true
   },
   "outputs": [],
   "source": [
    "import pandas as pd\n",
    "import numpy as np\n",
    "import matplotlib.pyplot as plt\n",
    "import seaborn as sns\n",
    "import plotly.express as px\n",
    "import warnings\n",
    "warnings.filterwarnings('ignore')\n",
    "\n"
   ]
  },
  {
   "cell_type": "code",
   "execution_count": 2,
   "metadata": {},
   "outputs": [],
   "source": [
    "#Import data\n",
    "star_wars = pd.read_csv('star_wars.csv', encoding=\"ISO-8859-1\")"
   ]
  },
  {
   "cell_type": "code",
   "execution_count": 3,
   "metadata": {},
   "outputs": [
    {
     "name": "stdout",
     "output_type": "stream",
     "text": [
      "<class 'pandas.core.frame.DataFrame'>\n",
      "RangeIndex: 1186 entries, 0 to 1185\n",
      "Data columns (total 38 columns):\n",
      " #   Column                                                                                                                                         Non-Null Count  Dtype  \n",
      "---  ------                                                                                                                                         --------------  -----  \n",
      " 0   RespondentID                                                                                                                                   1186 non-null   int64  \n",
      " 1   Have you seen any of the 6 films in the Star Wars franchise?                                                                                   1186 non-null   object \n",
      " 2   Do you consider yourself to be a fan of the Star Wars film franchise?                                                                          836 non-null    object \n",
      " 3   Which of the following Star Wars films have you seen? Please select all that apply.                                                            673 non-null    object \n",
      " 4   Unnamed: 4                                                                                                                                     571 non-null    object \n",
      " 5   Unnamed: 5                                                                                                                                     550 non-null    object \n",
      " 6   Unnamed: 6                                                                                                                                     607 non-null    object \n",
      " 7   Unnamed: 7                                                                                                                                     758 non-null    object \n",
      " 8   Unnamed: 8                                                                                                                                     738 non-null    object \n",
      " 9   Please rank the Star Wars films in order of preference with 1 being your favorite film in the franchise and 6 being your least favorite film.  835 non-null    float64\n",
      " 10  Unnamed: 10                                                                                                                                    836 non-null    float64\n",
      " 11  Unnamed: 11                                                                                                                                    835 non-null    float64\n",
      " 12  Unnamed: 12                                                                                                                                    836 non-null    float64\n",
      " 13  Unnamed: 13                                                                                                                                    836 non-null    float64\n",
      " 14  Unnamed: 14                                                                                                                                    836 non-null    float64\n",
      " 15  Please state whether you view the following characters favorably, unfavorably, or are unfamiliar with him/her.                                 829 non-null    object \n",
      " 16  Unnamed: 16                                                                                                                                    831 non-null    object \n",
      " 17  Unnamed: 17                                                                                                                                    831 non-null    object \n",
      " 18  Unnamed: 18                                                                                                                                    823 non-null    object \n",
      " 19  Unnamed: 19                                                                                                                                    825 non-null    object \n",
      " 20  Unnamed: 20                                                                                                                                    814 non-null    object \n",
      " 21  Unnamed: 21                                                                                                                                    826 non-null    object \n",
      " 22  Unnamed: 22                                                                                                                                    820 non-null    object \n",
      " 23  Unnamed: 23                                                                                                                                    812 non-null    object \n",
      " 24  Unnamed: 24                                                                                                                                    827 non-null    object \n",
      " 25  Unnamed: 25                                                                                                                                    830 non-null    object \n",
      " 26  Unnamed: 26                                                                                                                                    821 non-null    object \n",
      " 27  Unnamed: 27                                                                                                                                    814 non-null    object \n",
      " 28  Unnamed: 28                                                                                                                                    826 non-null    object \n",
      " 29  Which character shot first?                                                                                                                    828 non-null    object \n",
      " 30  Are you familiar with the Expanded Universe?                                                                                                   828 non-null    object \n",
      " 31  Do you consider yourself to be a fan of the Expanded Universe?                                                                                 213 non-null    object \n",
      " 32  Do you consider yourself to be a fan of the Star Trek franchise?                                                                               1068 non-null   object \n",
      " 33  Gender                                                                                                                                         1046 non-null   object \n",
      " 34  Age                                                                                                                                            1046 non-null   object \n",
      " 35  Household Income                                                                                                                               858 non-null    object \n",
      " 36  Education                                                                                                                                      1036 non-null   object \n",
      " 37  Location (Census Region)                                                                                                                       1043 non-null   object \n",
      "dtypes: float64(6), int64(1), object(31)\n",
      "memory usage: 352.2+ KB\n"
     ]
    }
   ],
   "source": [
    "star_wars.info()"
   ]
  },
  {
   "cell_type": "code",
   "execution_count": 4,
   "metadata": {},
   "outputs": [
    {
     "data": {
      "text/html": [
       "<div>\n",
       "<style scoped>\n",
       "    .dataframe tbody tr th:only-of-type {\n",
       "        vertical-align: middle;\n",
       "    }\n",
       "\n",
       "    .dataframe tbody tr th {\n",
       "        vertical-align: top;\n",
       "    }\n",
       "\n",
       "    .dataframe thead th {\n",
       "        text-align: right;\n",
       "    }\n",
       "</style>\n",
       "<table border=\"1\" class=\"dataframe\">\n",
       "  <thead>\n",
       "    <tr style=\"text-align: right;\">\n",
       "      <th></th>\n",
       "      <th>RespondentID</th>\n",
       "      <th>Have you seen any of the 6 films in the Star Wars franchise?</th>\n",
       "      <th>Do you consider yourself to be a fan of the Star Wars film franchise?</th>\n",
       "      <th>Which of the following Star Wars films have you seen? Please select all that apply.</th>\n",
       "      <th>Unnamed: 4</th>\n",
       "      <th>Unnamed: 5</th>\n",
       "      <th>Unnamed: 6</th>\n",
       "      <th>Unnamed: 7</th>\n",
       "      <th>Unnamed: 8</th>\n",
       "      <th>Please rank the Star Wars films in order of preference with 1 being your favorite film in the franchise and 6 being your least favorite film.</th>\n",
       "      <th>...</th>\n",
       "      <th>Unnamed: 28</th>\n",
       "      <th>Which character shot first?</th>\n",
       "      <th>Are you familiar with the Expanded Universe?</th>\n",
       "      <th>Do you consider yourself to be a fan of the Expanded Universe?</th>\n",
       "      <th>Do you consider yourself to be a fan of the Star Trek franchise?</th>\n",
       "      <th>Gender</th>\n",
       "      <th>Age</th>\n",
       "      <th>Household Income</th>\n",
       "      <th>Education</th>\n",
       "      <th>Location (Census Region)</th>\n",
       "    </tr>\n",
       "  </thead>\n",
       "  <tbody>\n",
       "    <tr>\n",
       "      <th>0</th>\n",
       "      <td>3292879998</td>\n",
       "      <td>Yes</td>\n",
       "      <td>Yes</td>\n",
       "      <td>Star Wars: Episode I  The Phantom Menace</td>\n",
       "      <td>Star Wars: Episode II  Attack of the Clones</td>\n",
       "      <td>Star Wars: Episode III  Revenge of the Sith</td>\n",
       "      <td>Star Wars: Episode IV  A New Hope</td>\n",
       "      <td>Star Wars: Episode V The Empire Strikes Back</td>\n",
       "      <td>Star Wars: Episode VI Return of the Jedi</td>\n",
       "      <td>3.0</td>\n",
       "      <td>...</td>\n",
       "      <td>Very favorably</td>\n",
       "      <td>I don't understand this question</td>\n",
       "      <td>Yes</td>\n",
       "      <td>No</td>\n",
       "      <td>No</td>\n",
       "      <td>Male</td>\n",
       "      <td>18-29</td>\n",
       "      <td>NaN</td>\n",
       "      <td>High school degree</td>\n",
       "      <td>South Atlantic</td>\n",
       "    </tr>\n",
       "    <tr>\n",
       "      <th>1</th>\n",
       "      <td>3292879538</td>\n",
       "      <td>No</td>\n",
       "      <td>NaN</td>\n",
       "      <td>NaN</td>\n",
       "      <td>NaN</td>\n",
       "      <td>NaN</td>\n",
       "      <td>NaN</td>\n",
       "      <td>NaN</td>\n",
       "      <td>NaN</td>\n",
       "      <td>NaN</td>\n",
       "      <td>...</td>\n",
       "      <td>NaN</td>\n",
       "      <td>NaN</td>\n",
       "      <td>NaN</td>\n",
       "      <td>NaN</td>\n",
       "      <td>Yes</td>\n",
       "      <td>Male</td>\n",
       "      <td>18-29</td>\n",
       "      <td>$0 - $24,999</td>\n",
       "      <td>Bachelor degree</td>\n",
       "      <td>West South Central</td>\n",
       "    </tr>\n",
       "    <tr>\n",
       "      <th>2</th>\n",
       "      <td>3292765271</td>\n",
       "      <td>Yes</td>\n",
       "      <td>No</td>\n",
       "      <td>Star Wars: Episode I  The Phantom Menace</td>\n",
       "      <td>Star Wars: Episode II  Attack of the Clones</td>\n",
       "      <td>Star Wars: Episode III  Revenge of the Sith</td>\n",
       "      <td>NaN</td>\n",
       "      <td>NaN</td>\n",
       "      <td>NaN</td>\n",
       "      <td>1.0</td>\n",
       "      <td>...</td>\n",
       "      <td>Unfamiliar (N/A)</td>\n",
       "      <td>I don't understand this question</td>\n",
       "      <td>No</td>\n",
       "      <td>NaN</td>\n",
       "      <td>No</td>\n",
       "      <td>Male</td>\n",
       "      <td>18-29</td>\n",
       "      <td>$0 - $24,999</td>\n",
       "      <td>High school degree</td>\n",
       "      <td>West North Central</td>\n",
       "    </tr>\n",
       "    <tr>\n",
       "      <th>3</th>\n",
       "      <td>3292763116</td>\n",
       "      <td>Yes</td>\n",
       "      <td>Yes</td>\n",
       "      <td>Star Wars: Episode I  The Phantom Menace</td>\n",
       "      <td>Star Wars: Episode II  Attack of the Clones</td>\n",
       "      <td>Star Wars: Episode III  Revenge of the Sith</td>\n",
       "      <td>Star Wars: Episode IV  A New Hope</td>\n",
       "      <td>Star Wars: Episode V The Empire Strikes Back</td>\n",
       "      <td>Star Wars: Episode VI Return of the Jedi</td>\n",
       "      <td>5.0</td>\n",
       "      <td>...</td>\n",
       "      <td>Very favorably</td>\n",
       "      <td>I don't understand this question</td>\n",
       "      <td>No</td>\n",
       "      <td>NaN</td>\n",
       "      <td>Yes</td>\n",
       "      <td>Male</td>\n",
       "      <td>18-29</td>\n",
       "      <td>$100,000 - $149,999</td>\n",
       "      <td>Some college or Associate degree</td>\n",
       "      <td>West North Central</td>\n",
       "    </tr>\n",
       "    <tr>\n",
       "      <th>4</th>\n",
       "      <td>3292731220</td>\n",
       "      <td>Yes</td>\n",
       "      <td>Yes</td>\n",
       "      <td>Star Wars: Episode I  The Phantom Menace</td>\n",
       "      <td>Star Wars: Episode II  Attack of the Clones</td>\n",
       "      <td>Star Wars: Episode III  Revenge of the Sith</td>\n",
       "      <td>Star Wars: Episode IV  A New Hope</td>\n",
       "      <td>Star Wars: Episode V The Empire Strikes Back</td>\n",
       "      <td>Star Wars: Episode VI Return of the Jedi</td>\n",
       "      <td>5.0</td>\n",
       "      <td>...</td>\n",
       "      <td>Somewhat favorably</td>\n",
       "      <td>Greedo</td>\n",
       "      <td>Yes</td>\n",
       "      <td>No</td>\n",
       "      <td>No</td>\n",
       "      <td>Male</td>\n",
       "      <td>18-29</td>\n",
       "      <td>$100,000 - $149,999</td>\n",
       "      <td>Some college or Associate degree</td>\n",
       "      <td>West North Central</td>\n",
       "    </tr>\n",
       "  </tbody>\n",
       "</table>\n",
       "<p>5 rows × 38 columns</p>\n",
       "</div>"
      ],
      "text/plain": [
       "   RespondentID Have you seen any of the 6 films in the Star Wars franchise?  \\\n",
       "0    3292879998                                                Yes             \n",
       "1    3292879538                                                 No             \n",
       "2    3292765271                                                Yes             \n",
       "3    3292763116                                                Yes             \n",
       "4    3292731220                                                Yes             \n",
       "\n",
       "  Do you consider yourself to be a fan of the Star Wars film franchise?  \\\n",
       "0                                                Yes                      \n",
       "1                                                NaN                      \n",
       "2                                                 No                      \n",
       "3                                                Yes                      \n",
       "4                                                Yes                      \n",
       "\n",
       "  Which of the following Star Wars films have you seen? Please select all that apply.  \\\n",
       "0           Star Wars: Episode I  The Phantom Menace                                    \n",
       "1                                                NaN                                    \n",
       "2           Star Wars: Episode I  The Phantom Menace                                    \n",
       "3           Star Wars: Episode I  The Phantom Menace                                    \n",
       "4           Star Wars: Episode I  The Phantom Menace                                    \n",
       "\n",
       "                                    Unnamed: 4  \\\n",
       "0  Star Wars: Episode II  Attack of the Clones   \n",
       "1                                          NaN   \n",
       "2  Star Wars: Episode II  Attack of the Clones   \n",
       "3  Star Wars: Episode II  Attack of the Clones   \n",
       "4  Star Wars: Episode II  Attack of the Clones   \n",
       "\n",
       "                                    Unnamed: 5  \\\n",
       "0  Star Wars: Episode III  Revenge of the Sith   \n",
       "1                                          NaN   \n",
       "2  Star Wars: Episode III  Revenge of the Sith   \n",
       "3  Star Wars: Episode III  Revenge of the Sith   \n",
       "4  Star Wars: Episode III  Revenge of the Sith   \n",
       "\n",
       "                          Unnamed: 6  \\\n",
       "0  Star Wars: Episode IV  A New Hope   \n",
       "1                                NaN   \n",
       "2                                NaN   \n",
       "3  Star Wars: Episode IV  A New Hope   \n",
       "4  Star Wars: Episode IV  A New Hope   \n",
       "\n",
       "                                     Unnamed: 7  \\\n",
       "0  Star Wars: Episode V The Empire Strikes Back   \n",
       "1                                           NaN   \n",
       "2                                           NaN   \n",
       "3  Star Wars: Episode V The Empire Strikes Back   \n",
       "4  Star Wars: Episode V The Empire Strikes Back   \n",
       "\n",
       "                                 Unnamed: 8  \\\n",
       "0  Star Wars: Episode VI Return of the Jedi   \n",
       "1                                       NaN   \n",
       "2                                       NaN   \n",
       "3  Star Wars: Episode VI Return of the Jedi   \n",
       "4  Star Wars: Episode VI Return of the Jedi   \n",
       "\n",
       "   Please rank the Star Wars films in order of preference with 1 being your favorite film in the franchise and 6 being your least favorite film.  \\\n",
       "0                                                3.0                                                                                               \n",
       "1                                                NaN                                                                                               \n",
       "2                                                1.0                                                                                               \n",
       "3                                                5.0                                                                                               \n",
       "4                                                5.0                                                                                               \n",
       "\n",
       "   ...         Unnamed: 28       Which character shot first?  \\\n",
       "0  ...      Very favorably  I don't understand this question   \n",
       "1  ...                 NaN                               NaN   \n",
       "2  ...    Unfamiliar (N/A)  I don't understand this question   \n",
       "3  ...      Very favorably  I don't understand this question   \n",
       "4  ...  Somewhat favorably                            Greedo   \n",
       "\n",
       "   Are you familiar with the Expanded Universe?  \\\n",
       "0                                           Yes   \n",
       "1                                           NaN   \n",
       "2                                            No   \n",
       "3                                            No   \n",
       "4                                           Yes   \n",
       "\n",
       "   Do you consider yourself to be a fan of the Expanded Universe?  \\\n",
       "0                                                 No                \n",
       "1                                                NaN                \n",
       "2                                                NaN                \n",
       "3                                                NaN                \n",
       "4                                                 No                \n",
       "\n",
       "   Do you consider yourself to be a fan of the Star Trek franchise? Gender  \\\n",
       "0                                                 No                  Male   \n",
       "1                                                Yes                  Male   \n",
       "2                                                 No                  Male   \n",
       "3                                                Yes                  Male   \n",
       "4                                                 No                  Male   \n",
       "\n",
       "     Age     Household Income                         Education  \\\n",
       "0  18-29                  NaN                High school degree   \n",
       "1  18-29         $0 - $24,999                   Bachelor degree   \n",
       "2  18-29         $0 - $24,999                High school degree   \n",
       "3  18-29  $100,000 - $149,999  Some college or Associate degree   \n",
       "4  18-29  $100,000 - $149,999  Some college or Associate degree   \n",
       "\n",
       "  Location (Census Region)  \n",
       "0           South Atlantic  \n",
       "1       West South Central  \n",
       "2       West North Central  \n",
       "3       West North Central  \n",
       "4       West North Central  \n",
       "\n",
       "[5 rows x 38 columns]"
      ]
     },
     "execution_count": 4,
     "metadata": {},
     "output_type": "execute_result"
    }
   ],
   "source": [
    "star_wars.head()"
   ]
  },
  {
   "cell_type": "code",
   "execution_count": 5,
   "metadata": {},
   "outputs": [
    {
     "data": {
      "text/plain": [
       "0"
      ]
     },
     "execution_count": 5,
     "metadata": {},
     "output_type": "execute_result"
    }
   ],
   "source": [
    "#Checking for duplicates\n",
    "star_wars.duplicated().sum()"
   ]
  },
  {
   "cell_type": "code",
   "execution_count": 6,
   "metadata": {},
   "outputs": [
    {
     "data": {
      "text/plain": [
       "RespondentID                                                                                                                                       0\n",
       "Have you seen any of the 6 films in the Star Wars franchise?                                                                                       0\n",
       "Do you consider yourself to be a fan of the Star Wars film franchise?                                                                            350\n",
       "Which of the following Star Wars films have you seen? Please select all that apply.                                                              513\n",
       "Unnamed: 4                                                                                                                                       615\n",
       "Unnamed: 5                                                                                                                                       636\n",
       "Unnamed: 6                                                                                                                                       579\n",
       "Unnamed: 7                                                                                                                                       428\n",
       "Unnamed: 8                                                                                                                                       448\n",
       "Please rank the Star Wars films in order of preference with 1 being your favorite film in the franchise and 6 being your least favorite film.    351\n",
       "Unnamed: 10                                                                                                                                      350\n",
       "Unnamed: 11                                                                                                                                      351\n",
       "Unnamed: 12                                                                                                                                      350\n",
       "Unnamed: 13                                                                                                                                      350\n",
       "Unnamed: 14                                                                                                                                      350\n",
       "Please state whether you view the following characters favorably, unfavorably, or are unfamiliar with him/her.                                   357\n",
       "Unnamed: 16                                                                                                                                      355\n",
       "Unnamed: 17                                                                                                                                      355\n",
       "Unnamed: 18                                                                                                                                      363\n",
       "Unnamed: 19                                                                                                                                      361\n",
       "Unnamed: 20                                                                                                                                      372\n",
       "Unnamed: 21                                                                                                                                      360\n",
       "Unnamed: 22                                                                                                                                      366\n",
       "Unnamed: 23                                                                                                                                      374\n",
       "Unnamed: 24                                                                                                                                      359\n",
       "Unnamed: 25                                                                                                                                      356\n",
       "Unnamed: 26                                                                                                                                      365\n",
       "Unnamed: 27                                                                                                                                      372\n",
       "Unnamed: 28                                                                                                                                      360\n",
       "Which character shot first?                                                                                                                      358\n",
       "Are you familiar with the Expanded Universe?                                                                                                     358\n",
       "Do you consider yourself to be a fan of the Expanded Universe?                                                                                   973\n",
       "Do you consider yourself to be a fan of the Star Trek franchise?                                                                                 118\n",
       "Gender                                                                                                                                           140\n",
       "Age                                                                                                                                              140\n",
       "Household Income                                                                                                                                 328\n",
       "Education                                                                                                                                        150\n",
       "Location (Census Region)                                                                                                                         143\n",
       "dtype: int64"
      ]
     },
     "execution_count": 6,
     "metadata": {},
     "output_type": "execute_result"
    }
   ],
   "source": [
    "#Checking for missing values\n",
    "star_wars.isnull().sum()"
   ]
  },
  {
   "cell_type": "code",
   "execution_count": 7,
   "metadata": {},
   "outputs": [
    {
     "data": {
      "text/plain": [
       "Index(['RespondentID',\n",
       "       'Have you seen any of the 6 films in the Star Wars franchise?',\n",
       "       'Do you consider yourself to be a fan of the Star Wars film franchise?',\n",
       "       'Which of the following Star Wars films have you seen? Please select all that apply.',\n",
       "       'Unnamed: 4', 'Unnamed: 5', 'Unnamed: 6', 'Unnamed: 7', 'Unnamed: 8',\n",
       "       'Please rank the Star Wars films in order of preference with 1 being your favorite film in the franchise and 6 being your least favorite film.',\n",
       "       'Unnamed: 10', 'Unnamed: 11', 'Unnamed: 12', 'Unnamed: 13',\n",
       "       'Unnamed: 14',\n",
       "       'Please state whether you view the following characters favorably, unfavorably, or are unfamiliar with him/her.',\n",
       "       'Unnamed: 16', 'Unnamed: 17', 'Unnamed: 18', 'Unnamed: 19',\n",
       "       'Unnamed: 20', 'Unnamed: 21', 'Unnamed: 22', 'Unnamed: 23',\n",
       "       'Unnamed: 24', 'Unnamed: 25', 'Unnamed: 26', 'Unnamed: 27',\n",
       "       'Unnamed: 28', 'Which character shot first?',\n",
       "       'Are you familiar with the Expanded Universe?',\n",
       "       'Do you consider yourself to be a fan of the Expanded Universe?',\n",
       "       'Do you consider yourself to be a fan of the Star Trek franchise?',\n",
       "       'Gender', 'Age', 'Household Income', 'Education',\n",
       "       'Location (Census Region)'],\n",
       "      dtype='object')"
      ]
     },
     "execution_count": 7,
     "metadata": {},
     "output_type": "execute_result"
    }
   ],
   "source": [
    "star_wars.columns"
   ]
  },
  {
   "cell_type": "code",
   "execution_count": 8,
   "metadata": {},
   "outputs": [],
   "source": [
    "'''\n",
    "Cleaning and Mapping Yes/No Columns\n",
    "Converting the Have you seen any of the 6 films in the Star Wars franchise? and  Do you consider yourself to be a fan of the Star Wars film franchise?  \n",
    "columns to the Boolean type.\n",
    "'''\n",
    "bool_series = {\n",
    "    \"Yes\": True,\n",
    "    \"No\": False\n",
    "}\n",
    "star_wars['Have you seen any of the 6 films in the Star Wars franchise?'] = star_wars['Have you seen any of the 6 films in the Star Wars franchise?'].map(bool_series)\n",
    "star_wars['Do you consider yourself to be a fan of the Star Wars film franchise?'] = star_wars['Do you consider yourself to be a fan of the Star Wars film franchise?'].map(bool_series)"
   ]
  },
  {
   "cell_type": "code",
   "execution_count": 9,
   "metadata": {},
   "outputs": [
    {
     "data": {
      "text/plain": [
       "Do you consider yourself to be a fan of the Star Wars film franchise?\n",
       "True     552\n",
       "False    284\n",
       "Name: count, dtype: int64"
      ]
     },
     "execution_count": 9,
     "metadata": {},
     "output_type": "execute_result"
    }
   ],
   "source": [
    "#Updated values boolean values\n",
    "star_wars['Do you consider yourself to be a fan of the Star Wars film franchise?'] .value_counts()"
   ]
  },
  {
   "cell_type": "markdown",
   "metadata": {},
   "source": [
    "### Cleaning and Mapping Checkbox Columns"
   ]
  },
  {
   "cell_type": "code",
   "execution_count": 10,
   "metadata": {},
   "outputs": [],
   "source": [
    "# #Converting columns to a Boolean \n",
    "bool_movie_mapping = {\n",
    "    'Star Wars: Episode I  The Phantom Menace': True,\n",
    "    'Star Wars: Episode II  Attack of the Clones': True,\n",
    "    'Star Wars: Episode III  Revenge of the Sith': True,\n",
    "    'Star Wars: Episode IV  A New Hope': True,\n",
    "    'Star Wars: Episode V The Empire Strikes Back': True,\n",
    "    'Star Wars: Episode VI Return of the Jedi': True, \n",
    "    np.NaN: False  \n",
    "    }\n",
    "    \n",
    "for col in star_wars.columns[3:9]:\n",
    "    star_wars[col] = star_wars[col].map(bool_movie_mapping)\n",
    "\n"
   ]
  },
  {
   "cell_type": "code",
   "execution_count": 11,
   "metadata": {},
   "outputs": [],
   "source": [
    "#Renaming movie columns\n",
    "star_wars = star_wars.rename(columns={\n",
    "    'Which of the following Star Wars films have you seen? Please select all that apply.': 'seen_1',\n",
    "    'Unnamed: 4': 'seen_2', \n",
    "    'Unnamed: 5': 'seen_3',\n",
    "    'Unnamed: 6': 'seen_4',\n",
    "    'Unnamed: 7': 'seen_5', \n",
    "    'Unnamed: 8': 'seen_6',\n",
    "})"
   ]
  },
  {
   "cell_type": "code",
   "execution_count": 12,
   "metadata": {},
   "outputs": [
    {
     "data": {
      "text/html": [
       "<div>\n",
       "<style scoped>\n",
       "    .dataframe tbody tr th:only-of-type {\n",
       "        vertical-align: middle;\n",
       "    }\n",
       "\n",
       "    .dataframe tbody tr th {\n",
       "        vertical-align: top;\n",
       "    }\n",
       "\n",
       "    .dataframe thead th {\n",
       "        text-align: right;\n",
       "    }\n",
       "</style>\n",
       "<table border=\"1\" class=\"dataframe\">\n",
       "  <thead>\n",
       "    <tr style=\"text-align: right;\">\n",
       "      <th></th>\n",
       "      <th>RespondentID</th>\n",
       "      <th>Have you seen any of the 6 films in the Star Wars franchise?</th>\n",
       "      <th>Do you consider yourself to be a fan of the Star Wars film franchise?</th>\n",
       "      <th>seen_1</th>\n",
       "      <th>seen_2</th>\n",
       "      <th>seen_3</th>\n",
       "      <th>seen_4</th>\n",
       "      <th>seen_5</th>\n",
       "      <th>seen_6</th>\n",
       "      <th>Please rank the Star Wars films in order of preference with 1 being your favorite film in the franchise and 6 being your least favorite film.</th>\n",
       "      <th>...</th>\n",
       "      <th>Unnamed: 28</th>\n",
       "      <th>Which character shot first?</th>\n",
       "      <th>Are you familiar with the Expanded Universe?</th>\n",
       "      <th>Do you consider yourself to be a fan of the Expanded Universe?</th>\n",
       "      <th>Do you consider yourself to be a fan of the Star Trek franchise?</th>\n",
       "      <th>Gender</th>\n",
       "      <th>Age</th>\n",
       "      <th>Household Income</th>\n",
       "      <th>Education</th>\n",
       "      <th>Location (Census Region)</th>\n",
       "    </tr>\n",
       "  </thead>\n",
       "  <tbody>\n",
       "    <tr>\n",
       "      <th>0</th>\n",
       "      <td>3292879998</td>\n",
       "      <td>True</td>\n",
       "      <td>True</td>\n",
       "      <td>True</td>\n",
       "      <td>True</td>\n",
       "      <td>True</td>\n",
       "      <td>True</td>\n",
       "      <td>True</td>\n",
       "      <td>True</td>\n",
       "      <td>3.0</td>\n",
       "      <td>...</td>\n",
       "      <td>Very favorably</td>\n",
       "      <td>I don't understand this question</td>\n",
       "      <td>Yes</td>\n",
       "      <td>No</td>\n",
       "      <td>No</td>\n",
       "      <td>Male</td>\n",
       "      <td>18-29</td>\n",
       "      <td>NaN</td>\n",
       "      <td>High school degree</td>\n",
       "      <td>South Atlantic</td>\n",
       "    </tr>\n",
       "    <tr>\n",
       "      <th>1</th>\n",
       "      <td>3292879538</td>\n",
       "      <td>False</td>\n",
       "      <td>NaN</td>\n",
       "      <td>False</td>\n",
       "      <td>False</td>\n",
       "      <td>False</td>\n",
       "      <td>False</td>\n",
       "      <td>False</td>\n",
       "      <td>False</td>\n",
       "      <td>NaN</td>\n",
       "      <td>...</td>\n",
       "      <td>NaN</td>\n",
       "      <td>NaN</td>\n",
       "      <td>NaN</td>\n",
       "      <td>NaN</td>\n",
       "      <td>Yes</td>\n",
       "      <td>Male</td>\n",
       "      <td>18-29</td>\n",
       "      <td>$0 - $24,999</td>\n",
       "      <td>Bachelor degree</td>\n",
       "      <td>West South Central</td>\n",
       "    </tr>\n",
       "  </tbody>\n",
       "</table>\n",
       "<p>2 rows × 38 columns</p>\n",
       "</div>"
      ],
      "text/plain": [
       "   RespondentID  Have you seen any of the 6 films in the Star Wars franchise?  \\\n",
       "0    3292879998                                               True              \n",
       "1    3292879538                                              False              \n",
       "\n",
       "  Do you consider yourself to be a fan of the Star Wars film franchise?  \\\n",
       "0                                               True                      \n",
       "1                                                NaN                      \n",
       "\n",
       "   seen_1  seen_2  seen_3  seen_4  seen_5  seen_6  \\\n",
       "0    True    True    True    True    True    True   \n",
       "1   False   False   False   False   False   False   \n",
       "\n",
       "   Please rank the Star Wars films in order of preference with 1 being your favorite film in the franchise and 6 being your least favorite film.  \\\n",
       "0                                                3.0                                                                                               \n",
       "1                                                NaN                                                                                               \n",
       "\n",
       "   ...     Unnamed: 28       Which character shot first?  \\\n",
       "0  ...  Very favorably  I don't understand this question   \n",
       "1  ...             NaN                               NaN   \n",
       "\n",
       "   Are you familiar with the Expanded Universe?  \\\n",
       "0                                           Yes   \n",
       "1                                           NaN   \n",
       "\n",
       "   Do you consider yourself to be a fan of the Expanded Universe?  \\\n",
       "0                                                 No                \n",
       "1                                                NaN                \n",
       "\n",
       "   Do you consider yourself to be a fan of the Star Trek franchise? Gender  \\\n",
       "0                                                 No                  Male   \n",
       "1                                                Yes                  Male   \n",
       "\n",
       "     Age Household Income           Education Location (Census Region)  \n",
       "0  18-29              NaN  High school degree           South Atlantic  \n",
       "1  18-29     $0 - $24,999     Bachelor degree       West South Central  \n",
       "\n",
       "[2 rows x 38 columns]"
      ]
     },
     "execution_count": 12,
     "metadata": {},
     "output_type": "execute_result"
    }
   ],
   "source": [
    "\n",
    "star_wars.head(2)"
   ]
  },
  {
   "cell_type": "markdown",
   "metadata": {},
   "source": [
    "### Cleaning the Ranking Columns"
   ]
  },
  {
   "cell_type": "code",
   "execution_count": 13,
   "metadata": {},
   "outputs": [],
   "source": [
    "# star_wars.columns"
   ]
  },
  {
   "cell_type": "code",
   "execution_count": 14,
   "metadata": {},
   "outputs": [],
   "source": [
    "'''Converting columns 'Please rank the Star Wars films in order of preference with 1 being your favorite film in the franchise and 6 being your least favorite film.',\n",
    "       'Unnamed: 10', 'Unnamed: 11', 'Unnamed: 12', 'Unnamed: 13',\n",
    "       'Unnamed: 14' to a float type\n",
    "'''\n",
    "star_wars[star_wars.columns[9:15]] = star_wars[star_wars.columns[9:15]].astype(float)\n"
   ]
  },
  {
   "cell_type": "code",
   "execution_count": 15,
   "metadata": {},
   "outputs": [],
   "source": [
    "#Renaming columns\n",
    "star_wars = star_wars.rename(columns={\n",
    "    'Please rank the Star Wars films in order of preference with 1 being your favorite film in the franchise and 6 being your least favorite film.': 'ranking_1',\n",
    "    'Unnamed: 10': 'ranking_2',\n",
    "    'Unnamed: 11': 'ranking_3', \n",
    "    'Unnamed: 12': 'ranking_4', \n",
    "    'Unnamed: 13': 'ranking_5',\n",
    "    'Unnamed: 14': 'ranking_6'\n",
    "})"
   ]
  },
  {
   "cell_type": "markdown",
   "metadata": {},
   "source": [
    "### Finding the Highest-Ranked Movie"
   ]
  },
  {
   "cell_type": "code",
   "execution_count": 16,
   "metadata": {},
   "outputs": [
    {
     "data": {
      "text/plain": [
       "ranking_1    3.732934\n",
       "ranking_2    4.087321\n",
       "ranking_3    4.341317\n",
       "ranking_4    3.272727\n",
       "ranking_5    2.513158\n",
       "ranking_6    3.047847\n",
       "dtype: float64"
      ]
     },
     "execution_count": 16,
     "metadata": {},
     "output_type": "execute_result"
    }
   ],
   "source": [
    "#Calculating the average rating for each movie\n",
    "col = ['ranking_1','ranking_2','ranking_3','ranking_4','ranking_5','ranking_6']\n",
    "means = star_wars[col].mean()\n",
    "#Plotting the average ratings\n",
    "# means.plot.bar()\n",
    "means"
   ]
  },
  {
   "cell_type": "code",
   "execution_count": 17,
   "metadata": {},
   "outputs": [
    {
     "data": {
      "image/png": "[encoded data removed]",
      "text/plain": [
       "<Figure size 640x480 with 1 Axes>"
      ]
     },
     "metadata": {},
     "output_type": "display_data"
    }
   ],
   "source": [
    "# plt.figure(figsize=(10, 6))\n",
    "plt.bar(means.index, means, color='lightskyblue')\n",
    "plt.ylabel('Mean')\n",
    "plt.tight_layout()\n",
    "plt.grid(axis='y', linestyle='--', alpha=0.7)\n",
    "\n",
    "#Adding xticks labels, renaming to the more readable format\n",
    "plt.xticks(\n",
    "    means.index,\n",
    "    [\n",
    "        'Episode I:\\nThe Phantom\\nMenace',\n",
    "        'Episode II:\\nAttack of\\nthe Clones',\n",
    "        'Episode III:\\nRevenge of\\nthe Sith',\n",
    "        'Episode IV:\\nA New Hope',\n",
    "        'Episode V:\\nThe Empire\\nStrikes Back',\n",
    "        'Episode VI:\\nReturn of\\nthe Jedi'\n",
    "    ],\n",
    "    ha='center'    \n",
    ")\n",
    "plt.title('The Highest-Ranked Movie')\n",
    "\n",
    "plt.show()"
   ]
  },
  {
   "cell_type": "markdown",
   "metadata": {},
   "source": [
    "- `Star Wars: Episode V The Empire Strikes Back` has the  highest rank.\n",
    "- `Star Wars: Episode III Revenge of the Sith` has the lowest score folowed by `Star Wars: Episode II Attack of the Clones` and  `Star Wars: Episode I The Phantom Menace`\n",
    "\n"
   ]
  },
  {
   "cell_type": "markdown",
   "metadata": {},
   "source": [
    "### Finding the Most Viewed Movie"
   ]
  },
  {
   "cell_type": "code",
   "execution_count": 18,
   "metadata": {},
   "outputs": [
    {
     "data": {
      "text/plain": [
       "seen_1    673\n",
       "seen_2    571\n",
       "seen_3    550\n",
       "seen_4    607\n",
       "seen_5    758\n",
       "seen_6    738\n",
       "dtype: int64"
      ]
     },
     "execution_count": 18,
     "metadata": {},
     "output_type": "execute_result"
    }
   ],
   "source": [
    "#Count the total views\n",
    "star_wars[star_wars.columns[3:9]].sum()"
   ]
  },
  {
   "cell_type": "code",
   "execution_count": 19,
   "metadata": {},
   "outputs": [
    {
     "data": {
      "image/png": "[encoded data removed]",
      "text/plain": [
       "<Figure size 640x480 with 1 Axes>"
      ]
     },
     "metadata": {},
     "output_type": "display_data"
    }
   ],
   "source": [
    "# plt.figure(figsize=(10, 6))\n",
    "plt.bar(star_wars.columns[3:9],star_wars[star_wars.columns[3:9]].sum(),color='lightskyblue')\n",
    "plt.ylabel('Times Seen')\n",
    "plt.tight_layout()\n",
    "plt.grid(axis='y', linestyle='--', alpha=0.7)\n",
    "\n",
    "#Adding xticks labels, renaming to the more readable format\n",
    "plt.xticks(\n",
    "    star_wars.columns[3:9],\n",
    "    [\n",
    "        'Episode I:\\nThe Phantom\\nMenace',\n",
    "        'Episode II:\\nAttack of\\nthe Clones',\n",
    "        'Episode III:\\nRevenge of\\nthe Sith',\n",
    "        'Episode IV:\\nA New Hope',\n",
    "        'Episode V:\\nThe Empire\\nStrikes Back',\n",
    "        'Episode VI:\\nReturn of\\nthe Jedi'\n",
    "    ],\n",
    "    ha='center'   \n",
    ")\n",
    "plt.title('The Most Viewed Movie')\n",
    "\n",
    "plt.show()"
   ]
  },
  {
   "cell_type": "markdown",
   "metadata": {},
   "source": [
    " `Episode V The Empire Strikes Back` and `Episode VI Return of the Jedi` are the most-seen Star Wars movies, and they correspond with their highest ranks as well."
   ]
  },
  {
   "cell_type": "markdown",
   "metadata": {},
   "source": [
    "### Exploring the Data by Binary Segments: Gender"
   ]
  },
  {
   "cell_type": "code",
   "execution_count": 20,
   "metadata": {},
   "outputs": [],
   "source": [
    "#Split df into two groups: based on gender\n",
    "males = star_wars[star_wars[\"Gender\"] == \"Male\"]\n",
    "females = star_wars[star_wars[\"Gender\"] == \"Female\"]"
   ]
  },
  {
   "cell_type": "code",
   "execution_count": 21,
   "metadata": {},
   "outputs": [],
   "source": [
    "#Calculating the average rating for each movie based on gender\n",
    "col = ['ranking_1','ranking_2','ranking_3','ranking_4','ranking_5','ranking_6']\n",
    "male_means = males[col].mean()\n",
    "fem_means = females[col].mean()"
   ]
  },
  {
   "cell_type": "code",
   "execution_count": 22,
   "metadata": {},
   "outputs": [
    {
     "data": {
      "image/png": "[encoded data removed]",
      "text/plain": [
       "<Figure size 640x480 with 1 Axes>"
      ]
     },
     "metadata": {},
     "output_type": "display_data"
    }
   ],
   "source": [
    "col_names = ['Episode I:\\nThe Phantom\\nMenace',\n",
    "        'Episode II:\\nAttack of\\nthe Clones',\n",
    "        'Episode III:\\nRevenge of\\nthe Sith',\n",
    "        'Episode IV:\\nA New Hope',\n",
    "        'Episode V:\\nThe Empire\\nStrikes Back',\n",
    "        'Episode VI:\\nReturn of\\nthe Jedi']\n",
    "\n",
    "# the width of the bars\n",
    "bar_width = 0.35\n",
    "\n",
    "# the label locations\n",
    "x = range(len(male_means))\n",
    "\n",
    "# plt.figure(figsize=(10, 6))\n",
    "\n",
    "# Plotting males' mean values\n",
    "plt.bar(x, male_means, bar_width, label='Males',color='lightskyblue')\n",
    "\n",
    "# Plotting females' mean values shifted by the bar_width to the right\n",
    "plt.bar([i + bar_width for i in x], fem_means, bar_width, label='Females',color='lightcoral')\n",
    "\n",
    "# Adding labels and titles\n",
    "# plt.xlabel('Movies')\n",
    "plt.ylabel('Mean')\n",
    "plt.title('Comparison of Average Rating between Males and Females')\n",
    "\n",
    "# Set x-axis ticks with labels from col_names\n",
    "plt.xticks(range(len(male_means)), col_names, ha=\"left\", size=8)  \n",
    "\n",
    "plt.legend()\n",
    "plt.grid(axis='y', linestyle='--', alpha=0.5)\n",
    "\n",
    "plt.tight_layout()\n",
    "plt.show()\n"
   ]
  },
  {
   "cell_type": "markdown",
   "metadata": {},
   "source": [
    "It appears that women tend to rate `Episode I` higher than men do, while men tend to give higher ratings to `Episode IV`. The remaining episodes receive similar ratings across genders."
   ]
  },
  {
   "cell_type": "markdown",
   "metadata": {},
   "source": [
    "\n",
    "<!-- The mean rankings provide intriguing insights into the preferences of male and female survey respondents regarding the Star Wars movies. It's worth noting again that a ranking of 1 indicates the most favorite, while a ranking of 6 indicates the least. -->\n",
    "\n",
    "<!-- Among males, Episode V: The Empire Strikes Back stands out as the top favorite, with a mean ranking of approximately 2.46, closely followed by Episode IV: A New Hope and Episode VI: Return of the Jedi. Overall, the first three episodes received poorer rankings compared to the last three, suggesting a weaker preference among male respondents for the earlier Star Wars episodes.\n",
    "\n",
    "In contrast, among female respondents, Episode V: The Empire Strikes Back also emerges as a favorite, with a mean ranking of approximately 2.57. However, Episode IV: A New Hope received a poorer ranking compared to males. Additionally, Episode III: Revenge of the Sith received the worst ranking among all the Star Wars movies, suggesting a less favorable perception of this film among females as well. -->"
   ]
  },
  {
   "cell_type": "markdown",
   "metadata": {},
   "source": [
    "### Finding the Most Viewed Movie: Females vs Males"
   ]
  },
  {
   "cell_type": "code",
   "execution_count": 23,
   "metadata": {},
   "outputs": [
    {
     "data": {
      "image/png": "[encoded data removed]",
      "text/plain": [
       "<Figure size 640x480 with 1 Axes>"
      ]
     },
     "metadata": {},
     "output_type": "display_data"
    }
   ],
   "source": [
    "\n",
    "col_names = ['Episode I:\\nThe Phantom\\nMenace',\n",
    "        'Episode II:\\nAttack of\\nthe Clones',\n",
    "        'Episode III:\\nRevenge of\\nthe Sith',\n",
    "        'Episode IV:\\nA New Hope',\n",
    "        'Episode V:\\nThe Empire\\nStrikes Back',\n",
    "        'Episode VI:\\nReturn of\\nthe Jedi']\n",
    "#Get the labels\n",
    "movies = males.columns[3:9]\n",
    "\n",
    "# the label locations\n",
    "x = np.arange(len(movies))\n",
    "\n",
    "# the width of the bars\n",
    "bar_width = 0.35\n",
    "\n",
    "#Plotting the bars\n",
    "fig, ax = plt.subplots()\n",
    "\n",
    "ax.bar(x - bar_width/2, males[males.columns[3:9]].sum(), bar_width, color='lightskyblue', label='Males')\n",
    "ax.bar(x + bar_width/2, females[females.columns[3:9]].sum(), bar_width, color='lightcoral', label='Females')\n",
    "\n",
    "# Adding labels and grid\n",
    "ax.set_ylabel('Times Seen')\n",
    "ax.set_xlabel('Movies')\n",
    "ax.set_title('Difference of Times Seen by Gender')\n",
    "ax.set_xticks(x)\n",
    "ax.set_xticklabels(col_names)\n",
    "ax.legend()\n",
    "ax.grid(axis='y', linestyle='--', alpha=0.5)\n",
    "\n",
    "# Adjust layout\n",
    "plt.tight_layout()\n",
    "plt.legend(bbox_to_anchor=(1.0,1.0))\n",
    "\n",
    "# Show the plot\n",
    "plt.show()\n",
    "\n"
   ]
  },
  {
   "cell_type": "markdown",
   "metadata": {},
   "source": [
    "- In general, men tend to watch all episodes more frequently than women. However, women exhibit higher viewership for the top-ranked `Episode V` and `Episode VI`, while showing less interest in `Episode II`, `Episode III`, and `Episode IV`.\n",
    "- Despite having the lower rating, `Episode I` attracts the highest number of views from both genders after `Episode V` and `Episode VI`."
   ]
  },
  {
   "cell_type": "markdown",
   "metadata": {},
   "source": [
    "### Exploring the Data by Education"
   ]
  },
  {
   "cell_type": "code",
   "execution_count": 25,
   "metadata": {},
   "outputs": [
    {
     "data": {
      "text/plain": [
       "Education\n",
       "Some college or Associate degree    328\n",
       "Bachelor degree                     321\n",
       "Graduate degree                     275\n",
       "High school degree                  105\n",
       "Less than high school degree          7\n",
       "Name: count, dtype: int64"
      ]
     },
     "execution_count": 25,
     "metadata": {},
     "output_type": "execute_result"
    }
   ],
   "source": [
    "star_wars['Education'].value_counts()"
   ]
  },
  {
   "cell_type": "code",
   "execution_count": 26,
   "metadata": {},
   "outputs": [
    {
     "data": {
      "text/plain": [
       "150"
      ]
     },
     "execution_count": 26,
     "metadata": {},
     "output_type": "execute_result"
    }
   ],
   "source": [
    "#Checking for null values\n",
    "star_wars['Education'].isnull().sum()"
   ]
  },
  {
   "cell_type": "code",
   "execution_count": 27,
   "metadata": {},
   "outputs": [],
   "source": [
    "#Filling the misisng values in \"Education\" with \"Unknown\"\n",
    "star_wars[\"Education\"].fillna(\"Unknown\", inplace=True)"
   ]
  },
  {
   "cell_type": "code",
   "execution_count": 28,
   "metadata": {},
   "outputs": [
    {
     "data": {
      "text/plain": [
       "0"
      ]
     },
     "execution_count": 28,
     "metadata": {},
     "output_type": "execute_result"
    }
   ],
   "source": [
    "#Re-check for null values\n",
    "star_wars['Education'].isnull().sum()"
   ]
  },
  {
   "cell_type": "code",
   "execution_count": 29,
   "metadata": {},
   "outputs": [
    {
     "data": {
      "text/plain": [
       "Education\n",
       "Some college or Associate degree    328\n",
       "Bachelor degree                     321\n",
       "Graduate degree                     275\n",
       "Unknown                             150\n",
       "High school degree                  105\n",
       "Less than high school degree          7\n",
       "Name: count, dtype: int64"
      ]
     },
     "execution_count": 29,
     "metadata": {},
     "output_type": "execute_result"
    }
   ],
   "source": [
    "star_wars['Education'].value_counts()"
   ]
  },
  {
   "cell_type": "code",
   "execution_count": 30,
   "metadata": {},
   "outputs": [
    {
     "data": {
      "text/html": [
       "<div>\n",
       "<style scoped>\n",
       "    .dataframe tbody tr th:only-of-type {\n",
       "        vertical-align: middle;\n",
       "    }\n",
       "\n",
       "    .dataframe tbody tr th {\n",
       "        vertical-align: top;\n",
       "    }\n",
       "\n",
       "    .dataframe thead th {\n",
       "        text-align: right;\n",
       "    }\n",
       "</style>\n",
       "<table border=\"1\" class=\"dataframe\">\n",
       "  <thead>\n",
       "    <tr style=\"text-align: right;\">\n",
       "      <th></th>\n",
       "      <th>ranking_1</th>\n",
       "      <th>ranking_2</th>\n",
       "      <th>ranking_3</th>\n",
       "      <th>ranking_4</th>\n",
       "      <th>ranking_5</th>\n",
       "      <th>ranking_6</th>\n",
       "    </tr>\n",
       "    <tr>\n",
       "      <th>Education</th>\n",
       "      <th></th>\n",
       "      <th></th>\n",
       "      <th></th>\n",
       "      <th></th>\n",
       "      <th></th>\n",
       "      <th></th>\n",
       "    </tr>\n",
       "  </thead>\n",
       "  <tbody>\n",
       "    <tr>\n",
       "      <th>Bachelor degree</th>\n",
       "      <td>3.828244</td>\n",
       "      <td>4.290076</td>\n",
       "      <td>4.521073</td>\n",
       "      <td>3.114504</td>\n",
       "      <td>2.309160</td>\n",
       "      <td>2.931298</td>\n",
       "    </tr>\n",
       "    <tr>\n",
       "      <th>Graduate degree</th>\n",
       "      <td>3.822222</td>\n",
       "      <td>4.225664</td>\n",
       "      <td>4.500000</td>\n",
       "      <td>3.199115</td>\n",
       "      <td>2.323009</td>\n",
       "      <td>2.920354</td>\n",
       "    </tr>\n",
       "    <tr>\n",
       "      <th>High school degree</th>\n",
       "      <td>3.802817</td>\n",
       "      <td>3.746479</td>\n",
       "      <td>4.126761</td>\n",
       "      <td>3.211268</td>\n",
       "      <td>2.873239</td>\n",
       "      <td>3.239437</td>\n",
       "    </tr>\n",
       "    <tr>\n",
       "      <th>Less than high school degree</th>\n",
       "      <td>5.000000</td>\n",
       "      <td>5.333333</td>\n",
       "      <td>3.666667</td>\n",
       "      <td>2.666667</td>\n",
       "      <td>1.000000</td>\n",
       "      <td>3.333333</td>\n",
       "    </tr>\n",
       "    <tr>\n",
       "      <th>Some college or Associate degree</th>\n",
       "      <td>3.551181</td>\n",
       "      <td>3.885827</td>\n",
       "      <td>4.102362</td>\n",
       "      <td>3.503937</td>\n",
       "      <td>2.783465</td>\n",
       "      <td>3.173228</td>\n",
       "    </tr>\n",
       "    <tr>\n",
       "      <th>Unknown</th>\n",
       "      <td>3.350000</td>\n",
       "      <td>3.450000</td>\n",
       "      <td>4.100000</td>\n",
       "      <td>3.550000</td>\n",
       "      <td>2.850000</td>\n",
       "      <td>3.700000</td>\n",
       "    </tr>\n",
       "  </tbody>\n",
       "</table>\n",
       "</div>"
      ],
      "text/plain": [
       "                                  ranking_1  ranking_2  ranking_3  ranking_4  \\\n",
       "Education                                                                      \n",
       "Bachelor degree                    3.828244   4.290076   4.521073   3.114504   \n",
       "Graduate degree                    3.822222   4.225664   4.500000   3.199115   \n",
       "High school degree                 3.802817   3.746479   4.126761   3.211268   \n",
       "Less than high school degree       5.000000   5.333333   3.666667   2.666667   \n",
       "Some college or Associate degree   3.551181   3.885827   4.102362   3.503937   \n",
       "Unknown                            3.350000   3.450000   4.100000   3.550000   \n",
       "\n",
       "                                  ranking_5  ranking_6  \n",
       "Education                                               \n",
       "Bachelor degree                    2.309160   2.931298  \n",
       "Graduate degree                    2.323009   2.920354  \n",
       "High school degree                 2.873239   3.239437  \n",
       "Less than high school degree       1.000000   3.333333  \n",
       "Some college or Associate degree   2.783465   3.173228  \n",
       "Unknown                            2.850000   3.700000  "
      ]
     },
     "execution_count": 30,
     "metadata": {},
     "output_type": "execute_result"
    }
   ],
   "source": [
    "#Calculating rating means for education column\n",
    "# col = ['ranking_1','ranking_2','ranking_3','ranking_4','ranking_5','ranking_6']\n",
    "grouped_data = star_wars.groupby('Education')[col].mean()\n",
    "grouped_data\n"
   ]
  },
  {
   "cell_type": "code",
   "execution_count": 31,
   "metadata": {},
   "outputs": [
    {
     "data": {
      "image/png": "[encoded data removed]",
      "text/plain": [
       "<Figure size 1000x600 with 1 Axes>"
      ]
     },
     "metadata": {},
     "output_type": "display_data"
    }
   ],
   "source": [
    "legend_names = ['Episode I','Episode II','Episode III','Episode IV','Episode V','Episode VI']\n",
    "\n",
    "grouped_data = star_wars.groupby('Education')[col].mean()\n",
    "\n",
    "custom_palette = sns.color_palette(\"Paired\", len(grouped_data))\n",
    "# Plotting the bar plot\n",
    "ax = grouped_data.plot(kind='bar', figsize=(10, 6),width=0.7, color=custom_palette)\n",
    "\n",
    "# Customizing labels and title\n",
    "ax.set_xlabel('Education Level', fontsize=12)\n",
    "ax.set_ylabel('Mean Value', fontsize=12)\n",
    "ax.set_title('Average Rating by Education Level', fontsize=14)\n",
    "\n",
    "# Rotating x-axis labels for better readability if necessary\n",
    "plt.xticks(rotation=90)\n",
    "plt.legend(legend_names, bbox_to_anchor=(1.0,1.0))\n",
    "\n",
    "# Show plot\n",
    "plt.show()"
   ]
  },
  {
   "cell_type": "markdown",
   "metadata": {},
   "source": [
    "Among all educational levels, `Episode V` receives the highest rating, while `Episode III` is regarded as the least favorable movie, with the exception of the \"less than high school\" group, which is too small to accurately assess its representativeness."
   ]
  },
  {
   "cell_type": "markdown",
   "metadata": {},
   "source": [
    "### Exploring the Data by Location"
   ]
  },
  {
   "cell_type": "code",
   "execution_count": 32,
   "metadata": {},
   "outputs": [
    {
     "data": {
      "text/plain": [
       "Location (Census Region)\n",
       "East North Central    181\n",
       "Pacific               175\n",
       "South Atlantic        170\n",
       "Middle Atlantic       122\n",
       "West South Central    110\n",
       "West North Central     93\n",
       "Mountain               79\n",
       "New England            75\n",
       "East South Central     38\n",
       "Name: count, dtype: int64"
      ]
     },
     "execution_count": 32,
     "metadata": {},
     "output_type": "execute_result"
    }
   ],
   "source": [
    "#Creatinig a copy of the original df\n",
    "sw_df = star_wars.copy()\n",
    "sw_df['Location (Census Region)'].value_counts()"
   ]
  },
  {
   "cell_type": "code",
   "execution_count": 33,
   "metadata": {},
   "outputs": [
    {
     "data": {
      "text/plain": [
       "143"
      ]
     },
     "execution_count": 33,
     "metadata": {},
     "output_type": "execute_result"
    }
   ],
   "source": [
    "#Checking for null values\n",
    "sw_df['Location (Census Region)'].isnull().sum()"
   ]
  },
  {
   "cell_type": "code",
   "execution_count": 34,
   "metadata": {},
   "outputs": [
    {
     "data": {
      "text/plain": [
       "0"
      ]
     },
     "execution_count": 34,
     "metadata": {},
     "output_type": "execute_result"
    }
   ],
   "source": [
    "#Filling the misisng values in \"Location\" with \"Unknown\"\n",
    "sw_df['Location (Census Region)'].fillna(\"Unknown\", inplace=True)\n",
    "#Re-check for null values\n",
    "sw_df['Location (Census Region)'].isnull().sum()\n"
   ]
  },
  {
   "cell_type": "code",
   "execution_count": 35,
   "metadata": {},
   "outputs": [],
   "source": [
    "#Renaming columns\n",
    "new_names = {'ranking_1': 'Episode I',\n",
    "             'ranking_2': 'Episode II',\n",
    "             'ranking_3': 'Episode III',\n",
    "             'ranking_4': 'Episode IV',\n",
    "             'ranking_5': 'Episode V',\n",
    "             'ranking_6': 'Episode VI'\n",
    "\n",
    "}\n",
    "sw_df.rename(columns=new_names, inplace=True)"
   ]
  },
  {
   "cell_type": "code",
   "execution_count": 36,
   "metadata": {},
   "outputs": [
    {
     "data": {
      "text/html": [
       "<div>\n",
       "<style scoped>\n",
       "    .dataframe tbody tr th:only-of-type {\n",
       "        vertical-align: middle;\n",
       "    }\n",
       "\n",
       "    .dataframe tbody tr th {\n",
       "        vertical-align: top;\n",
       "    }\n",
       "\n",
       "    .dataframe thead th {\n",
       "        text-align: right;\n",
       "    }\n",
       "</style>\n",
       "<table border=\"1\" class=\"dataframe\">\n",
       "  <thead>\n",
       "    <tr style=\"text-align: right;\">\n",
       "      <th></th>\n",
       "      <th>Location (Census Region)</th>\n",
       "      <th>Episode I</th>\n",
       "      <th>Episode II</th>\n",
       "      <th>Episode III</th>\n",
       "      <th>Episode IV</th>\n",
       "      <th>Episode V</th>\n",
       "      <th>Episode VI</th>\n",
       "    </tr>\n",
       "  </thead>\n",
       "  <tbody>\n",
       "    <tr>\n",
       "      <th>0</th>\n",
       "      <td>East North Central</td>\n",
       "      <td>3.723881</td>\n",
       "      <td>4.074627</td>\n",
       "      <td>4.410448</td>\n",
       "      <td>3.358209</td>\n",
       "      <td>2.373134</td>\n",
       "      <td>3.059701</td>\n",
       "    </tr>\n",
       "    <tr>\n",
       "      <th>1</th>\n",
       "      <td>East South Central</td>\n",
       "      <td>3.875000</td>\n",
       "      <td>4.593750</td>\n",
       "      <td>4.375000</td>\n",
       "      <td>2.875000</td>\n",
       "      <td>2.250000</td>\n",
       "      <td>3.031250</td>\n",
       "    </tr>\n",
       "    <tr>\n",
       "      <th>2</th>\n",
       "      <td>Middle Atlantic</td>\n",
       "      <td>3.924731</td>\n",
       "      <td>4.215054</td>\n",
       "      <td>4.413043</td>\n",
       "      <td>3.064516</td>\n",
       "      <td>2.440860</td>\n",
       "      <td>2.924731</td>\n",
       "    </tr>\n",
       "    <tr>\n",
       "      <th>3</th>\n",
       "      <td>Mountain</td>\n",
       "      <td>4.000000</td>\n",
       "      <td>4.000000</td>\n",
       "      <td>4.279412</td>\n",
       "      <td>2.970588</td>\n",
       "      <td>2.794118</td>\n",
       "      <td>2.955882</td>\n",
       "    </tr>\n",
       "    <tr>\n",
       "      <th>4</th>\n",
       "      <td>New England</td>\n",
       "      <td>4.203390</td>\n",
       "      <td>4.166667</td>\n",
       "      <td>4.133333</td>\n",
       "      <td>3.083333</td>\n",
       "      <td>2.516667</td>\n",
       "      <td>2.866667</td>\n",
       "    </tr>\n",
       "    <tr>\n",
       "      <th>5</th>\n",
       "      <td>Pacific</td>\n",
       "      <td>3.582192</td>\n",
       "      <td>3.821918</td>\n",
       "      <td>4.171233</td>\n",
       "      <td>3.219178</td>\n",
       "      <td>2.739726</td>\n",
       "      <td>3.465753</td>\n",
       "    </tr>\n",
       "    <tr>\n",
       "      <th>6</th>\n",
       "      <td>South Atlantic</td>\n",
       "      <td>3.684211</td>\n",
       "      <td>4.180451</td>\n",
       "      <td>4.443609</td>\n",
       "      <td>3.406015</td>\n",
       "      <td>2.398496</td>\n",
       "      <td>2.887218</td>\n",
       "    </tr>\n",
       "    <tr>\n",
       "      <th>7</th>\n",
       "      <td>Unknown</td>\n",
       "      <td>3.277778</td>\n",
       "      <td>3.944444</td>\n",
       "      <td>4.333333</td>\n",
       "      <td>3.611111</td>\n",
       "      <td>2.555556</td>\n",
       "      <td>3.277778</td>\n",
       "    </tr>\n",
       "    <tr>\n",
       "      <th>8</th>\n",
       "      <td>West North Central</td>\n",
       "      <td>3.671053</td>\n",
       "      <td>4.105263</td>\n",
       "      <td>4.355263</td>\n",
       "      <td>3.368421</td>\n",
       "      <td>2.552632</td>\n",
       "      <td>2.947368</td>\n",
       "    </tr>\n",
       "    <tr>\n",
       "      <th>9</th>\n",
       "      <td>West South Central</td>\n",
       "      <td>3.394737</td>\n",
       "      <td>4.118421</td>\n",
       "      <td>4.473684</td>\n",
       "      <td>3.657895</td>\n",
       "      <td>2.421053</td>\n",
       "      <td>2.934211</td>\n",
       "    </tr>\n",
       "  </tbody>\n",
       "</table>\n",
       "</div>"
      ],
      "text/plain": [
       "  Location (Census Region)  Episode I  Episode II  Episode III  Episode IV  \\\n",
       "0       East North Central   3.723881    4.074627     4.410448    3.358209   \n",
       "1       East South Central   3.875000    4.593750     4.375000    2.875000   \n",
       "2          Middle Atlantic   3.924731    4.215054     4.413043    3.064516   \n",
       "3                 Mountain   4.000000    4.000000     4.279412    2.970588   \n",
       "4              New England   4.203390    4.166667     4.133333    3.083333   \n",
       "5                  Pacific   3.582192    3.821918     4.171233    3.219178   \n",
       "6           South Atlantic   3.684211    4.180451     4.443609    3.406015   \n",
       "7                  Unknown   3.277778    3.944444     4.333333    3.611111   \n",
       "8       West North Central   3.671053    4.105263     4.355263    3.368421   \n",
       "9       West South Central   3.394737    4.118421     4.473684    3.657895   \n",
       "\n",
       "   Episode V  Episode VI  \n",
       "0   2.373134    3.059701  \n",
       "1   2.250000    3.031250  \n",
       "2   2.440860    2.924731  \n",
       "3   2.794118    2.955882  \n",
       "4   2.516667    2.866667  \n",
       "5   2.739726    3.465753  \n",
       "6   2.398496    2.887218  \n",
       "7   2.555556    3.277778  \n",
       "8   2.552632    2.947368  \n",
       "9   2.421053    2.934211  "
      ]
     },
     "execution_count": 36,
     "metadata": {},
     "output_type": "execute_result"
    }
   ],
   "source": [
    "new_columns = ['Episode I','Episode II','Episode III','Episode IV','Episode V','Episode VI']\n",
    "grouped_loc = sw_df.groupby('Location (Census Region)')[new_columns].mean().reset_index()\n",
    "grouped_loc"
   ]
  },
  {
   "cell_type": "code",
   "execution_count": 37,
   "metadata": {},
   "outputs": [
    {
     "data": {
      "application/vnd.plotly.v1+json": {
       "config": {
        "plotlyServerURL": "https://plot.ly"
       },
       "data": [
        {
         "alignmentgroup": "True",
         "hovertemplate": "variable=Episode I<br>Location (Census Region)=%{x}<br>value=%{y}<extra></extra>",
         "legendgroup": "Episode I",
         "marker": {
          "color": "#636efa",
          "pattern": {
           "shape": ""
          }
         },
         "name": "Episode I",
         "offsetgroup": "Episode I",
         "orientation": "v",
         "showlegend": true,
         "textposition": "auto",
         "type": "bar",
         "x": [
          "East North Central",
          "East South Central",
          "Middle Atlantic",
          "Mountain",
          "New England",
          "Pacific",
          "South Atlantic",
          "Unknown",
          "West North Central",
          "West South Central"
         ],
         "xaxis": "x",
         "y": [
          3.7238805970149254,
          3.875,
          3.924731182795699,
          4,
          4.203389830508475,
          3.5821917808219177,
          3.6842105263157894,
          3.2777777777777777,
          3.6710526315789473,
          3.3947368421052633
         ],
         "yaxis": "y"
        },
        {
         "alignmentgroup": "True",
         "hovertemplate": "variable=Episode II<br>Location (Census Region)=%{x}<br>value=%{y}<extra></extra>",
         "legendgroup": "Episode II",
         "marker": {
          "color": "#EF553B",
          "pattern": {
           "shape": ""
          }
         },
         "name": "Episode II",
         "offsetgroup": "Episode II",
         "orientation": "v",
         "showlegend": true,
         "textposition": "auto",
         "type": "bar",
         "x": [
          "East North Central",
          "East South Central",
          "Middle Atlantic",
          "Mountain",
          "New England",
          "Pacific",
          "South Atlantic",
          "Unknown",
          "West North Central",
          "West South Central"
         ],
         "xaxis": "x",
         "y": [
          4.074626865671642,
          4.59375,
          4.21505376344086,
          4,
          4.166666666666667,
          3.8219178082191783,
          4.180451127819549,
          3.9444444444444446,
          4.105263157894737,
          4.118421052631579
         ],
         "yaxis": "y"
        },
        {
         "alignmentgroup": "True",
         "hovertemplate": "variable=Episode III<br>Location (Census Region)=%{x}<br>value=%{y}<extra></extra>",
         "legendgroup": "Episode III",
         "marker": {
          "color": "#00cc96",
          "pattern": {
           "shape": ""
          }
         },
         "name": "Episode III",
         "offsetgroup": "Episode III",
         "orientation": "v",
         "showlegend": true,
         "textposition": "auto",
         "type": "bar",
         "x": [
          "East North Central",
          "East South Central",
          "Middle Atlantic",
          "Mountain",
          "New England",
          "Pacific",
          "South Atlantic",
          "Unknown",
          "West North Central",
          "West South Central"
         ],
         "xaxis": "x",
         "y": [
          4.41044776119403,
          4.375,
          4.413043478260869,
          4.279411764705882,
          4.133333333333334,
          4.171232876712328,
          4.443609022556391,
          4.333333333333333,
          4.355263157894737,
          4.473684210526316
         ],
         "yaxis": "y"
        },
        {
         "alignmentgroup": "True",
         "hovertemplate": "variable=Episode IV<br>Location (Census Region)=%{x}<br>value=%{y}<extra></extra>",
         "legendgroup": "Episode IV",
         "marker": {
          "color": "#ab63fa",
          "pattern": {
           "shape": ""
          }
         },
         "name": "Episode IV",
         "offsetgroup": "Episode IV",
         "orientation": "v",
         "showlegend": true,
         "textposition": "auto",
         "type": "bar",
         "x": [
          "East North Central",
          "East South Central",
          "Middle Atlantic",
          "Mountain",
          "New England",
          "Pacific",
          "South Atlantic",
          "Unknown",
          "West North Central",
          "West South Central"
         ],
         "xaxis": "x",
         "y": [
          3.3582089552238807,
          2.875,
          3.064516129032258,
          2.9705882352941178,
          3.0833333333333335,
          3.219178082191781,
          3.406015037593985,
          3.611111111111111,
          3.3684210526315788,
          3.6578947368421053
         ],
         "yaxis": "y"
        },
        {
         "alignmentgroup": "True",
         "hovertemplate": "variable=Episode V<br>Location (Census Region)=%{x}<br>value=%{y}<extra></extra>",
         "legendgroup": "Episode V",
         "marker": {
          "color": "#FFA15A",
          "pattern": {
           "shape": ""
          }
         },
         "name": "Episode V",
         "offsetgroup": "Episode V",
         "orientation": "v",
         "showlegend": true,
         "textposition": "auto",
         "type": "bar",
         "x": [
          "East North Central",
          "East South Central",
          "Middle Atlantic",
          "Mountain",
          "New England",
          "Pacific",
          "South Atlantic",
          "Unknown",
          "West North Central",
          "West South Central"
         ],
         "xaxis": "x",
         "y": [
          2.373134328358209,
          2.25,
          2.4408602150537635,
          2.7941176470588234,
          2.5166666666666666,
          2.73972602739726,
          2.398496240601504,
          2.5555555555555554,
          2.5526315789473686,
          2.4210526315789473
         ],
         "yaxis": "y"
        },
        {
         "alignmentgroup": "True",
         "hovertemplate": "variable=Episode VI<br>Location (Census Region)=%{x}<br>value=%{y}<extra></extra>",
         "legendgroup": "Episode VI",
         "marker": {
          "color": "#19d3f3",
          "pattern": {
           "shape": ""
          }
         },
         "name": "Episode VI",
         "offsetgroup": "Episode VI",
         "orientation": "v",
         "showlegend": true,
         "textposition": "auto",
         "type": "bar",
         "x": [
          "East North Central",
          "East South Central",
          "Middle Atlantic",
          "Mountain",
          "New England",
          "Pacific",
          "South Atlantic",
          "Unknown",
          "West North Central",
          "West South Central"
         ],
         "xaxis": "x",
         "y": [
          3.0597014925373136,
          3.03125,
          2.924731182795699,
          2.9558823529411766,
          2.8666666666666667,
          3.4657534246575343,
          2.887218045112782,
          3.2777777777777777,
          2.9473684210526314,
          2.9342105263157894
         ],
         "yaxis": "y"
        }
       ],
       "layout": {
        "barmode": "group",
        "height": 600,
        "legend": {
         "title": {},
         "tracegroupgap": 0
        },
        "template": {
         "data": {
          "bar": [
           {
            "error_x": {
             "color": "#2a3f5f"
            },
            "error_y": {
             "color": "#2a3f5f"
            },
            "marker": {
             "line": {
              "color": "#E5ECF6",
              "width": 0.5
             },
             "pattern": {
              "fillmode": "overlay",
              "size": 10,
              "solidity": 0.2
             }
            },
            "type": "bar"
           }
          ],
          "barpolar": [
           {
            "marker": {
             "line": {
              "color": "#E5ECF6",
              "width": 0.5
             },
             "pattern": {
              "fillmode": "overlay",
              "size": 10,
              "solidity": 0.2
             }
            },
            "type": "barpolar"
           }
          ],
          "carpet": [
           {
            "aaxis": {
             "endlinecolor": "#2a3f5f",
             "gridcolor": "white",
             "linecolor": "white",
             "minorgridcolor": "white",
             "startlinecolor": "#2a3f5f"
            },
            "baxis": {
             "endlinecolor": "#2a3f5f",
             "gridcolor": "white",
             "linecolor": "white",
             "minorgridcolor": "white",
             "startlinecolor": "#2a3f5f"
            },
            "type": "carpet"
           }
          ],
          "choropleth": [
           {
            "colorbar": {
             "outlinewidth": 0,
             "ticks": ""
            },
            "type": "choropleth"
           }
          ],
          "contour": [
           {
            "colorbar": {
             "outlinewidth": 0,
             "ticks": ""
            },
            "colorscale": [
             [
              0,
              "#0d0887"
             ],
             [
              0.1111111111111111,
              "#46039f"
             ],
             [
              0.2222222222222222,
              "#7201a8"
             ],
             [
              0.3333333333333333,
              "#9c179e"
             ],
             [
              0.4444444444444444,
              "#bd3786"
             ],
             [
              0.5555555555555556,
              "#d8576b"
             ],
             [
              0.6666666666666666,
              "#ed7953"
             ],
             [
              0.7777777777777778,
              "#fb9f3a"
             ],
             [
              0.8888888888888888,
              "#fdca26"
             ],
             [
              1,
              "#f0f921"
             ]
            ],
            "type": "contour"
           }
          ],
          "contourcarpet": [
           {
            "colorbar": {
             "outlinewidth": 0,
             "ticks": ""
            },
            "type": "contourcarpet"
           }
          ],
          "heatmap": [
           {
            "colorbar": {
             "outlinewidth": 0,
             "ticks": ""
            },
            "colorscale": [
             [
              0,
              "#0d0887"
             ],
             [
              0.1111111111111111,
              "#46039f"
             ],
             [
              0.2222222222222222,
              "#7201a8"
             ],
             [
              0.3333333333333333,
              "#9c179e"
             ],
             [
              0.4444444444444444,
              "#bd3786"
             ],
             [
              0.5555555555555556,
              "#d8576b"
             ],
             [
              0.6666666666666666,
              "#ed7953"
             ],
             [
              0.7777777777777778,
              "#fb9f3a"
             ],
             [
              0.8888888888888888,
              "#fdca26"
             ],
             [
              1,
              "#f0f921"
             ]
            ],
            "type": "heatmap"
           }
          ],
          "heatmapgl": [
           {
            "colorbar": {
             "outlinewidth": 0,
             "ticks": ""
            },
            "colorscale": [
             [
              0,
              "#0d0887"
             ],
             [
              0.1111111111111111,
              "#46039f"
             ],
             [
              0.2222222222222222,
              "#7201a8"
             ],
             [
              0.3333333333333333,
              "#9c179e"
             ],
             [
              0.4444444444444444,
              "#bd3786"
             ],
             [
              0.5555555555555556,
              "#d8576b"
             ],
             [
              0.6666666666666666,
              "#ed7953"
             ],
             [
              0.7777777777777778,
              "#fb9f3a"
             ],
             [
              0.8888888888888888,
              "#fdca26"
             ],
             [
              1,
              "#f0f921"
             ]
            ],
            "type": "heatmapgl"
           }
          ],
          "histogram": [
           {
            "marker": {
             "pattern": {
              "fillmode": "overlay",
              "size": 10,
              "solidity": 0.2
             }
            },
            "type": "histogram"
           }
          ],
          "histogram2d": [
           {
            "colorbar": {
             "outlinewidth": 0,
             "ticks": ""
            },
            "colorscale": [
             [
              0,
              "#0d0887"
             ],
             [
              0.1111111111111111,
              "#46039f"
             ],
             [
              0.2222222222222222,
              "#7201a8"
             ],
             [
              0.3333333333333333,
              "#9c179e"
             ],
             [
              0.4444444444444444,
              "#bd3786"
             ],
             [
              0.5555555555555556,
              "#d8576b"
             ],
             [
              0.6666666666666666,
              "#ed7953"
             ],
             [
              0.7777777777777778,
              "#fb9f3a"
             ],
             [
              0.8888888888888888,
              "#fdca26"
             ],
             [
              1,
              "#f0f921"
             ]
            ],
            "type": "histogram2d"
           }
          ],
          "histogram2dcontour": [
           {
            "colorbar": {
             "outlinewidth": 0,
             "ticks": ""
            },
            "colorscale": [
             [
              0,
              "#0d0887"
             ],
             [
              0.1111111111111111,
              "#46039f"
             ],
             [
              0.2222222222222222,
              "#7201a8"
             ],
             [
              0.3333333333333333,
              "#9c179e"
             ],
             [
              0.4444444444444444,
              "#bd3786"
             ],
             [
              0.5555555555555556,
              "#d8576b"
             ],
             [
              0.6666666666666666,
              "#ed7953"
             ],
             [
              0.7777777777777778,
              "#fb9f3a"
             ],
             [
              0.8888888888888888,
              "#fdca26"
             ],
             [
              1,
              "#f0f921"
             ]
            ],
            "type": "histogram2dcontour"
           }
          ],
          "mesh3d": [
           {
            "colorbar": {
             "outlinewidth": 0,
             "ticks": ""
            },
            "type": "mesh3d"
           }
          ],
          "parcoords": [
           {
            "line": {
             "colorbar": {
              "outlinewidth": 0,
              "ticks": ""
             }
            },
            "type": "parcoords"
           }
          ],
          "pie": [
           {
            "automargin": true,
            "type": "pie"
           }
          ],
          "scatter": [
           {
            "fillpattern": {
             "fillmode": "overlay",
             "size": 10,
             "solidity": 0.2
            },
            "type": "scatter"
           }
          ],
          "scatter3d": [
           {
            "line": {
             "colorbar": {
              "outlinewidth": 0,
              "ticks": ""
             }
            },
            "marker": {
             "colorbar": {
              "outlinewidth": 0,
              "ticks": ""
             }
            },
            "type": "scatter3d"
           }
          ],
          "scattercarpet": [
           {
            "marker": {
             "colorbar": {
              "outlinewidth": 0,
              "ticks": ""
             }
            },
            "type": "scattercarpet"
           }
          ],
          "scattergeo": [
           {
            "marker": {
             "colorbar": {
              "outlinewidth": 0,
              "ticks": ""
             }
            },
            "type": "scattergeo"
           }
          ],
          "scattergl": [
           {
            "marker": {
             "colorbar": {
              "outlinewidth": 0,
              "ticks": ""
             }
            },
            "type": "scattergl"
           }
          ],
          "scattermapbox": [
           {
            "marker": {
             "colorbar": {
              "outlinewidth": 0,
              "ticks": ""
             }
            },
            "type": "scattermapbox"
           }
          ],
          "scatterpolar": [
           {
            "marker": {
             "colorbar": {
              "outlinewidth": 0,
              "ticks": ""
             }
            },
            "type": "scatterpolar"
           }
          ],
          "scatterpolargl": [
           {
            "marker": {
             "colorbar": {
              "outlinewidth": 0,
              "ticks": ""
             }
            },
            "type": "scatterpolargl"
           }
          ],
          "scatterternary": [
           {
            "marker": {
             "colorbar": {
              "outlinewidth": 0,
              "ticks": ""
             }
            },
            "type": "scatterternary"
           }
          ],
          "surface": [
           {
            "colorbar": {
             "outlinewidth": 0,
             "ticks": ""
            },
            "colorscale": [
             [
              0,
              "#0d0887"
             ],
             [
              0.1111111111111111,
              "#46039f"
             ],
             [
              0.2222222222222222,
              "#7201a8"
             ],
             [
              0.3333333333333333,
              "#9c179e"
             ],
             [
              0.4444444444444444,
              "#bd3786"
             ],
             [
              0.5555555555555556,
              "#d8576b"
             ],
             [
              0.6666666666666666,
              "#ed7953"
             ],
             [
              0.7777777777777778,
              "#fb9f3a"
             ],
             [
              0.8888888888888888,
              "#fdca26"
             ],
             [
              1,
              "#f0f921"
             ]
            ],
            "type": "surface"
           }
          ],
          "table": [
           {
            "cells": {
             "fill": {
              "color": "#EBF0F8"
             },
             "line": {
              "color": "white"
             }
            },
            "header": {
             "fill": {
              "color": "#C8D4E3"
             },
             "line": {
              "color": "white"
             }
            },
            "type": "table"
           }
          ]
         },
         "layout": {
          "annotationdefaults": {
           "arrowcolor": "#2a3f5f",
           "arrowhead": 0,
           "arrowwidth": 1
          },
          "autotypenumbers": "strict",
          "coloraxis": {
           "colorbar": {
            "outlinewidth": 0,
            "ticks": ""
           }
          },
          "colorscale": {
           "diverging": [
            [
             0,
             "#8e0152"
            ],
            [
             0.1,
             "#c51b7d"
            ],
            [
             0.2,
             "#de77ae"
            ],
            [
             0.3,
             "#f1b6da"
            ],
            [
             0.4,
             "#fde0ef"
            ],
            [
             0.5,
             "#f7f7f7"
            ],
            [
             0.6,
             "#e6f5d0"
            ],
            [
             0.7,
             "#b8e186"
            ],
            [
             0.8,
             "#7fbc41"
            ],
            [
             0.9,
             "#4d9221"
            ],
            [
             1,
             "#276419"
            ]
           ],
           "sequential": [
            [
             0,
             "#0d0887"
            ],
            [
             0.1111111111111111,
             "#46039f"
            ],
            [
             0.2222222222222222,
             "#7201a8"
            ],
            [
             0.3333333333333333,
             "#9c179e"
            ],
            [
             0.4444444444444444,
             "#bd3786"
            ],
            [
             0.5555555555555556,
             "#d8576b"
            ],
            [
             0.6666666666666666,
             "#ed7953"
            ],
            [
             0.7777777777777778,
             "#fb9f3a"
            ],
            [
             0.8888888888888888,
             "#fdca26"
            ],
            [
             1,
             "#f0f921"
            ]
           ],
           "sequentialminus": [
            [
             0,
             "#0d0887"
            ],
            [
             0.1111111111111111,
             "#46039f"
            ],
            [
             0.2222222222222222,
             "#7201a8"
            ],
            [
             0.3333333333333333,
             "#9c179e"
            ],
            [
             0.4444444444444444,
             "#bd3786"
            ],
            [
             0.5555555555555556,
             "#d8576b"
            ],
            [
             0.6666666666666666,
             "#ed7953"
            ],
            [
             0.7777777777777778,
             "#fb9f3a"
            ],
            [
             0.8888888888888888,
             "#fdca26"
            ],
            [
             1,
             "#f0f921"
            ]
           ]
          },
          "colorway": [
           "#636efa",
           "#EF553B",
           "#00cc96",
           "#ab63fa",
           "#FFA15A",
           "#19d3f3",
           "#FF6692",
           "#B6E880",
           "#FF97FF",
           "#FECB52"
          ],
          "font": {
           "color": "#2a3f5f"
          },
          "geo": {
           "bgcolor": "white",
           "lakecolor": "white",
           "landcolor": "#E5ECF6",
           "showlakes": true,
           "showland": true,
           "subunitcolor": "white"
          },
          "hoverlabel": {
           "align": "left"
          },
          "hovermode": "closest",
          "mapbox": {
           "style": "light"
          },
          "paper_bgcolor": "white",
          "plot_bgcolor": "#E5ECF6",
          "polar": {
           "angularaxis": {
            "gridcolor": "white",
            "linecolor": "white",
            "ticks": ""
           },
           "bgcolor": "#E5ECF6",
           "radialaxis": {
            "gridcolor": "white",
            "linecolor": "white",
            "ticks": ""
           }
          },
          "scene": {
           "xaxis": {
            "backgroundcolor": "#E5ECF6",
            "gridcolor": "white",
            "gridwidth": 2,
            "linecolor": "white",
            "showbackground": true,
            "ticks": "",
            "zerolinecolor": "white"
           },
           "yaxis": {
            "backgroundcolor": "#E5ECF6",
            "gridcolor": "white",
            "gridwidth": 2,
            "linecolor": "white",
            "showbackground": true,
            "ticks": "",
            "zerolinecolor": "white"
           },
           "zaxis": {
            "backgroundcolor": "#E5ECF6",
            "gridcolor": "white",
            "gridwidth": 2,
            "linecolor": "white",
            "showbackground": true,
            "ticks": "",
            "zerolinecolor": "white"
           }
          },
          "shapedefaults": {
           "line": {
            "color": "#2a3f5f"
           }
          },
          "ternary": {
           "aaxis": {
            "gridcolor": "white",
            "linecolor": "white",
            "ticks": ""
           },
           "baxis": {
            "gridcolor": "white",
            "linecolor": "white",
            "ticks": ""
           },
           "bgcolor": "#E5ECF6",
           "caxis": {
            "gridcolor": "white",
            "linecolor": "white",
            "ticks": ""
           }
          },
          "title": {
           "x": 0.05
          },
          "xaxis": {
           "automargin": true,
           "gridcolor": "white",
           "linecolor": "white",
           "ticks": "",
           "title": {
            "standoff": 15
           },
           "zerolinecolor": "white",
           "zerolinewidth": 2
          },
          "yaxis": {
           "automargin": true,
           "gridcolor": "white",
           "linecolor": "white",
           "ticks": "",
           "title": {
            "standoff": 15
           },
           "zerolinecolor": "white",
           "zerolinewidth": 2
          }
         }
        },
        "title": {
         "font": {
          "size": 14
         },
         "text": "Average Rating by Location"
        },
        "width": 1100,
        "xaxis": {
         "anchor": "y",
         "domain": [
          0,
          1
         ],
         "tickangle": -45,
         "title": {
          "font": {
           "size": 12
          },
          "text": "Location (Census Region)"
         }
        },
        "yaxis": {
         "anchor": "x",
         "domain": [
          0,
          1
         ],
         "title": {
          "font": {
           "size": 12
          },
          "text": "value"
         }
        }
       }
      }
     },
     "metadata": {},
     "output_type": "display_data"
    }
   ],
   "source": [
    "legend_names = ['Episode I','Episode II','Episode III','Episode IV','Episode V','Episode VI']\n",
    "\n",
    "# Grouping the data\n",
    "grouped_loc = sw_df.groupby('Location (Census Region)')[new_columns].mean().reset_index()\n",
    "\n",
    "# Plotting the bar plot with Plotly Express\n",
    "fig = px.bar(grouped_loc, x='Location (Census Region)', y=new_columns, \n",
    "             title='Average Rating by Location', barmode='group', width=1100, height=600\n",
    "             )\n",
    "\n",
    "fig.update_layout(xaxis_tickangle=-45, \n",
    "                  xaxis_title_font_size=12,\n",
    "                  yaxis_title_font_size=12,\n",
    "                  title_font_size=14,\n",
    "                  legend_title_text=None)\n",
    "\n",
    "    \n",
    "fig.show()\n"
   ]
  },
  {
   "cell_type": "markdown",
   "metadata": {},
   "source": [
    "- `Episode V` is a winner across all locations. \n",
    "- `Episode II` has the lowest rating only in East South Central Location.\n",
    "- New England rated almost equally low: `Episode I`,`Episode II`, and`Episode III`"
   ]
  },
  {
   "cell_type": "markdown",
   "metadata": {},
   "source": [
    "### Exploring the Data by Age"
   ]
  },
  {
   "cell_type": "code",
   "execution_count": 38,
   "metadata": {},
   "outputs": [
    {
     "name": "stdout",
     "output_type": "stream",
     "text": [
      "Number of missing values: 140\n"
     ]
    }
   ],
   "source": [
    "#Checking Age column for null values\n",
    "print(f\"Number of missing values: {sw_df['Age'].isnull().sum()}\")\n",
    "#Replacing missing values No Data\n",
    "sw_df['Age'].fillna(\"No Data\", inplace=True)"
   ]
  },
  {
   "cell_type": "code",
   "execution_count": 39,
   "metadata": {},
   "outputs": [
    {
     "data": {
      "text/plain": [
       "Age\n",
       "45-60      291\n",
       "> 60       269\n",
       "30-44      268\n",
       "18-29      218\n",
       "No Data    140\n",
       "Name: count, dtype: int64"
      ]
     },
     "execution_count": 39,
     "metadata": {},
     "output_type": "execute_result"
    }
   ],
   "source": [
    "sw_df[\"Age\"].value_counts()"
   ]
  },
  {
   "cell_type": "code",
   "execution_count": 64,
   "metadata": {},
   "outputs": [
    {
     "data": {
      "image/png": "[encoded data removed]",
      "text/plain": [
       "<Figure size 640x480 with 1 Axes>"
      ]
     },
     "metadata": {},
     "output_type": "display_data"
    }
   ],
   "source": [
    "#Most vieved movie by age\n",
    "legend_names = ['Episode I','Episode II','Episode III','Episode IV','Episode V','Episode VI']\n",
    "grouped_data = sw_df.groupby('Age')[sw_df.columns[3:9]].sum()\n",
    "\n",
    "#Reset index to make \"Age\" a column\n",
    "grouped_data = grouped_data.reset_index()\n",
    "\n",
    "#Exclude \"No Data\" fields\n",
    "filtered_data = grouped_data[grouped_data['Age'] != \"No Data\"]\n",
    "\n",
    "#melt df to have \"Age\" as a categorical variable\n",
    "melted_sw = pd.melt(filtered_data, id_vars=['Age'], var_name=\"Seen\", value_name='Count')\n",
    "\n",
    "\n",
    "custom_palette = sns.color_palette(\"Paired\", len(legend_names))\n",
    "# print(len(custom_palette))\n",
    "# Plotting the bar plot\n",
    "# plt.figure(figsize=(10,6))\n",
    "\n",
    "sns.barplot(x=\"Age\", y=\"Count\", hue='Seen', data=melted_sw, palette=custom_palette)\n",
    "\n",
    "# Customizing labels and title\n",
    "plt.xlabel('Age')\n",
    "plt.ylabel('Times Viewed', fontsize=12)\n",
    "plt.title('Times Viewed By Age', fontsize=14)\n",
    "plt.grid(alpha=0.5)\n",
    "\n",
    "plt.xticks(rotation=360)\n",
    "# plt.legend(legend_names, bbox_to_anchor=(1.0,1.0))\n",
    "custom_legend = [plt.Rectangle((0,0),1,1, color=color) for color in custom_palette]\n",
    "plt.legend(custom_legend, legend_names, bbox_to_anchor=(1.0,1.0))\n",
    "\n",
    "plt.show()"
   ]
  },
  {
   "cell_type": "markdown",
   "metadata": {},
   "source": [
    "- Viewership is lower among those aged 60 and above, yet their interest peaks notably with `Episode I`. However, viewership drops significantly thereafter, rising again only for `Episode V` and `Episode VI. \n",
    "- A similar trend can be seen within the 45-60 age category. \n",
    "- Conversely, the 18-29 age group demonstrates nearly equal viewership across all episodes, mirroring the pattern observed in the 30-44 age group."
   ]
  },
  {
   "cell_type": "markdown",
   "metadata": {},
   "source": [
    "### Exploring the Data by the Fan Base: Star Trek vs Star Wars"
   ]
  },
  {
   "cell_type": "code",
   "execution_count": 68,
   "metadata": {},
   "outputs": [
    {
     "data": {
      "text/plain": [
       "Series([], Name: count, dtype: int64)"
      ]
     },
     "execution_count": 68,
     "metadata": {},
     "output_type": "execute_result"
    }
   ],
   "source": [
    "#Cleaning and Mapping \n",
    "bool_series = {\n",
    "    \"Yes\": True,\n",
    "    \"No\": False\n",
    "}\n",
    "sw_df['Do you consider yourself to be a fan of the Star Trek franchise?'] = sw_df['Do you consider yourself to be a fan of the Star Trek franchise?'].map(bool_series)\n",
    "sw_df['Do you consider yourself to be a fan of the Star Trek franchise?'].value_counts()\n"
   ]
  },
  {
   "cell_type": "code",
   "execution_count": 45,
   "metadata": {},
   "outputs": [
    {
     "data": {
      "text/plain": [
       "Do you consider yourself to be a fan of the Star Wars film franchise?\n",
       "True     552\n",
       "False    284\n",
       "Name: count, dtype: int64"
      ]
     },
     "execution_count": 45,
     "metadata": {},
     "output_type": "execute_result"
    }
   ],
   "source": [
    "sw_df['Do you consider yourself to be a fan of the Star Wars film franchise?'].value_counts()"
   ]
  },
  {
   "cell_type": "code",
   "execution_count": 47,
   "metadata": {},
   "outputs": [],
   "source": [
    "#Create a new dataframe\n",
    "new_df = sw_df[['Do you consider yourself to be a fan of the Star Wars film franchise?','Do you consider yourself to be a fan of the Star Trek franchise?',\n",
    "                      'Gender', 'Age', 'Household Income', 'Education', 'Location (Census Region)']].copy()"
   ]
  },
  {
   "cell_type": "code",
   "execution_count": 70,
   "metadata": {},
   "outputs": [],
   "source": [
    "#Renaming columns\n",
    "new_df = new_df.rename(columns={\n",
    "    'Do you consider yourself to be a fan of the Star Wars film franchise?': 'Star Wars fan',\n",
    "    'Do you consider yourself to be a fan of the Star Trek franchise?': 'Star Trek fan' \n",
    "})"
   ]
  },
  {
   "cell_type": "code",
   "execution_count": 71,
   "metadata": {},
   "outputs": [
    {
     "data": {
      "text/html": [
       "<div>\n",
       "<style scoped>\n",
       "    .dataframe tbody tr th:only-of-type {\n",
       "        vertical-align: middle;\n",
       "    }\n",
       "\n",
       "    .dataframe tbody tr th {\n",
       "        vertical-align: top;\n",
       "    }\n",
       "\n",
       "    .dataframe thead th {\n",
       "        text-align: right;\n",
       "    }\n",
       "</style>\n",
       "<table border=\"1\" class=\"dataframe\">\n",
       "  <thead>\n",
       "    <tr style=\"text-align: right;\">\n",
       "      <th></th>\n",
       "      <th>Star Wars fan</th>\n",
       "      <th>Star Trek fan</th>\n",
       "      <th>Gender</th>\n",
       "      <th>Age</th>\n",
       "      <th>Household Income</th>\n",
       "      <th>Education</th>\n",
       "      <th>Location (Census Region)</th>\n",
       "    </tr>\n",
       "  </thead>\n",
       "  <tbody>\n",
       "    <tr>\n",
       "      <th>0</th>\n",
       "      <td>True</td>\n",
       "      <td>False</td>\n",
       "      <td>Male</td>\n",
       "      <td>18-29</td>\n",
       "      <td>NaN</td>\n",
       "      <td>High school degree</td>\n",
       "      <td>South Atlantic</td>\n",
       "    </tr>\n",
       "    <tr>\n",
       "      <th>1</th>\n",
       "      <td>No Data</td>\n",
       "      <td>True</td>\n",
       "      <td>Male</td>\n",
       "      <td>18-29</td>\n",
       "      <td>$0 - $24,999</td>\n",
       "      <td>Bachelor degree</td>\n",
       "      <td>West South Central</td>\n",
       "    </tr>\n",
       "    <tr>\n",
       "      <th>2</th>\n",
       "      <td>False</td>\n",
       "      <td>False</td>\n",
       "      <td>Male</td>\n",
       "      <td>18-29</td>\n",
       "      <td>$0 - $24,999</td>\n",
       "      <td>High school degree</td>\n",
       "      <td>West North Central</td>\n",
       "    </tr>\n",
       "    <tr>\n",
       "      <th>3</th>\n",
       "      <td>True</td>\n",
       "      <td>True</td>\n",
       "      <td>Male</td>\n",
       "      <td>18-29</td>\n",
       "      <td>$100,000 - $149,999</td>\n",
       "      <td>Some college or Associate degree</td>\n",
       "      <td>West North Central</td>\n",
       "    </tr>\n",
       "    <tr>\n",
       "      <th>4</th>\n",
       "      <td>True</td>\n",
       "      <td>False</td>\n",
       "      <td>Male</td>\n",
       "      <td>18-29</td>\n",
       "      <td>$100,000 - $149,999</td>\n",
       "      <td>Some college or Associate degree</td>\n",
       "      <td>West North Central</td>\n",
       "    </tr>\n",
       "  </tbody>\n",
       "</table>\n",
       "</div>"
      ],
      "text/plain": [
       "  Star Wars fan Star Trek fan Gender    Age     Household Income  \\\n",
       "0          True         False   Male  18-29                  NaN   \n",
       "1       No Data          True   Male  18-29         $0 - $24,999   \n",
       "2         False         False   Male  18-29         $0 - $24,999   \n",
       "3          True          True   Male  18-29  $100,000 - $149,999   \n",
       "4          True         False   Male  18-29  $100,000 - $149,999   \n",
       "\n",
       "                          Education Location (Census Region)  \n",
       "0                High school degree           South Atlantic  \n",
       "1                   Bachelor degree       West South Central  \n",
       "2                High school degree       West North Central  \n",
       "3  Some college or Associate degree       West North Central  \n",
       "4  Some college or Associate degree       West North Central  "
      ]
     },
     "execution_count": 71,
     "metadata": {},
     "output_type": "execute_result"
    }
   ],
   "source": [
    "new_df.head()"
   ]
  },
  {
   "cell_type": "code",
   "execution_count": 50,
   "metadata": {},
   "outputs": [],
   "source": [
    "#Replacing missing values with NaN\n",
    "new_df['Star Trek fan'].fillna(\"No Data\", inplace=True)\n",
    "new_df['Star Wars fan'].fillna(\"No Data\", inplace=True)"
   ]
  },
  {
   "cell_type": "code",
   "execution_count": 51,
   "metadata": {},
   "outputs": [
    {
     "name": "stdout",
     "output_type": "stream",
     "text": [
      "Number of null values: 0\n",
      "Number of null values: 0\n"
     ]
    }
   ],
   "source": [
    "#Checking for null values\n",
    "print(f\"Number of null values: {new_df['Star Trek fan'].isnull().sum()}\")\n",
    "print(f\"Number of null values: {new_df['Star Wars fan'].isnull().sum()}\")"
   ]
  },
  {
   "cell_type": "code",
   "execution_count": 52,
   "metadata": {},
   "outputs": [
    {
     "data": {
      "text/plain": [
       "Age\n",
       "45-60      291\n",
       "> 60       269\n",
       "30-44      268\n",
       "18-29      218\n",
       "No Data    140\n",
       "Name: count, dtype: int64"
      ]
     },
     "execution_count": 52,
     "metadata": {},
     "output_type": "execute_result"
    }
   ],
   "source": [
    "new_df['Age'].value_counts()"
   ]
  },
  {
   "cell_type": "code",
   "execution_count": 73,
   "metadata": {},
   "outputs": [
    {
     "data": {
      "text/html": [
       "<div>\n",
       "<style scoped>\n",
       "    .dataframe tbody tr th:only-of-type {\n",
       "        vertical-align: middle;\n",
       "    }\n",
       "\n",
       "    .dataframe tbody tr th {\n",
       "        vertical-align: top;\n",
       "    }\n",
       "\n",
       "    .dataframe thead th {\n",
       "        text-align: right;\n",
       "    }\n",
       "</style>\n",
       "<table border=\"1\" class=\"dataframe\">\n",
       "  <thead>\n",
       "    <tr style=\"text-align: right;\">\n",
       "      <th></th>\n",
       "      <th>Star Wars fan</th>\n",
       "      <th>Star Trek fan</th>\n",
       "      <th>Gender</th>\n",
       "      <th>Age</th>\n",
       "      <th>Household Income</th>\n",
       "      <th>Education</th>\n",
       "      <th>Location (Census Region)</th>\n",
       "    </tr>\n",
       "  </thead>\n",
       "  <tbody>\n",
       "    <tr>\n",
       "      <th>0</th>\n",
       "      <td>True</td>\n",
       "      <td>False</td>\n",
       "      <td>Male</td>\n",
       "      <td>18-29</td>\n",
       "      <td>NaN</td>\n",
       "      <td>High school degree</td>\n",
       "      <td>South Atlantic</td>\n",
       "    </tr>\n",
       "    <tr>\n",
       "      <th>2</th>\n",
       "      <td>False</td>\n",
       "      <td>False</td>\n",
       "      <td>Male</td>\n",
       "      <td>18-29</td>\n",
       "      <td>$0 - $24,999</td>\n",
       "      <td>High school degree</td>\n",
       "      <td>West North Central</td>\n",
       "    </tr>\n",
       "    <tr>\n",
       "      <th>3</th>\n",
       "      <td>True</td>\n",
       "      <td>True</td>\n",
       "      <td>Male</td>\n",
       "      <td>18-29</td>\n",
       "      <td>$100,000 - $149,999</td>\n",
       "      <td>Some college or Associate degree</td>\n",
       "      <td>West North Central</td>\n",
       "    </tr>\n",
       "    <tr>\n",
       "      <th>4</th>\n",
       "      <td>True</td>\n",
       "      <td>False</td>\n",
       "      <td>Male</td>\n",
       "      <td>18-29</td>\n",
       "      <td>$100,000 - $149,999</td>\n",
       "      <td>Some college or Associate degree</td>\n",
       "      <td>West North Central</td>\n",
       "    </tr>\n",
       "    <tr>\n",
       "      <th>5</th>\n",
       "      <td>True</td>\n",
       "      <td>True</td>\n",
       "      <td>Male</td>\n",
       "      <td>18-29</td>\n",
       "      <td>$25,000 - $49,999</td>\n",
       "      <td>Bachelor degree</td>\n",
       "      <td>Middle Atlantic</td>\n",
       "    </tr>\n",
       "    <tr>\n",
       "      <th>...</th>\n",
       "      <td>...</td>\n",
       "      <td>...</td>\n",
       "      <td>...</td>\n",
       "      <td>...</td>\n",
       "      <td>...</td>\n",
       "      <td>...</td>\n",
       "      <td>...</td>\n",
       "    </tr>\n",
       "    <tr>\n",
       "      <th>1180</th>\n",
       "      <td>True</td>\n",
       "      <td>False</td>\n",
       "      <td>Female</td>\n",
       "      <td>45-60</td>\n",
       "      <td>$0 - $24,999</td>\n",
       "      <td>Some college or Associate degree</td>\n",
       "      <td>Pacific</td>\n",
       "    </tr>\n",
       "    <tr>\n",
       "      <th>1181</th>\n",
       "      <td>True</td>\n",
       "      <td>True</td>\n",
       "      <td>Female</td>\n",
       "      <td>18-29</td>\n",
       "      <td>$0 - $24,999</td>\n",
       "      <td>Some college or Associate degree</td>\n",
       "      <td>East North Central</td>\n",
       "    </tr>\n",
       "    <tr>\n",
       "      <th>1182</th>\n",
       "      <td>True</td>\n",
       "      <td>True</td>\n",
       "      <td>Female</td>\n",
       "      <td>30-44</td>\n",
       "      <td>$50,000 - $99,999</td>\n",
       "      <td>Bachelor degree</td>\n",
       "      <td>Mountain</td>\n",
       "    </tr>\n",
       "    <tr>\n",
       "      <th>1184</th>\n",
       "      <td>True</td>\n",
       "      <td>True</td>\n",
       "      <td>Female</td>\n",
       "      <td>45-60</td>\n",
       "      <td>$100,000 - $149,999</td>\n",
       "      <td>Some college or Associate degree</td>\n",
       "      <td>East North Central</td>\n",
       "    </tr>\n",
       "    <tr>\n",
       "      <th>1185</th>\n",
       "      <td>False</td>\n",
       "      <td>False</td>\n",
       "      <td>Female</td>\n",
       "      <td>&gt; 60</td>\n",
       "      <td>$50,000 - $99,999</td>\n",
       "      <td>Graduate degree</td>\n",
       "      <td>Pacific</td>\n",
       "    </tr>\n",
       "  </tbody>\n",
       "</table>\n",
       "<p>820 rows × 7 columns</p>\n",
       "</div>"
      ],
      "text/plain": [
       "     Star Wars fan Star Trek fan  Gender    Age     Household Income  \\\n",
       "0             True         False    Male  18-29                  NaN   \n",
       "2            False         False    Male  18-29         $0 - $24,999   \n",
       "3             True          True    Male  18-29  $100,000 - $149,999   \n",
       "4             True         False    Male  18-29  $100,000 - $149,999   \n",
       "5             True          True    Male  18-29    $25,000 - $49,999   \n",
       "...            ...           ...     ...    ...                  ...   \n",
       "1180          True         False  Female  45-60         $0 - $24,999   \n",
       "1181          True          True  Female  18-29         $0 - $24,999   \n",
       "1182          True          True  Female  30-44    $50,000 - $99,999   \n",
       "1184          True          True  Female  45-60  $100,000 - $149,999   \n",
       "1185         False         False  Female   > 60    $50,000 - $99,999   \n",
       "\n",
       "                             Education Location (Census Region)  \n",
       "0                   High school degree           South Atlantic  \n",
       "2                   High school degree       West North Central  \n",
       "3     Some college or Associate degree       West North Central  \n",
       "4     Some college or Associate degree       West North Central  \n",
       "5                      Bachelor degree          Middle Atlantic  \n",
       "...                                ...                      ...  \n",
       "1180  Some college or Associate degree                  Pacific  \n",
       "1181  Some college or Associate degree       East North Central  \n",
       "1182                   Bachelor degree                 Mountain  \n",
       "1184  Some college or Associate degree       East North Central  \n",
       "1185                   Graduate degree                  Pacific  \n",
       "\n",
       "[820 rows x 7 columns]"
      ]
     },
     "execution_count": 73,
     "metadata": {},
     "output_type": "execute_result"
    }
   ],
   "source": [
    "#Filtering data by removing \"No Data\" rows\n",
    "filtered_data = new_df[(new_df['Age'] != \"No Data\") & (new_df['Star Trek fan'] != \"No Data\") & (new_df['Star Wars fan'] != \"No Data\")]\n",
    "filtered_data\n",
    "# sns.countplot(x=\"Age\", data=filtered_data, hue=\"Star Wars fan\")\n",
    "# plt.show()"
   ]
  },
  {
   "cell_type": "code",
   "execution_count": 80,
   "metadata": {},
   "outputs": [
    {
     "data": {
      "image/png": "[encoded data removed]",
      "text/plain": [
       "<Figure size 640x480 with 1 Axes>"
      ]
     },
     "metadata": {},
     "output_type": "display_data"
    }
   ],
   "source": [
    "grouped = filtered_data.groupby('Age')[['Star Wars fan', 'Star Trek fan']].sum().reset_index()\n",
    "\n",
    "# the label locationsrs\n",
    "positions = np.arange(len(grouped['Age']))\n",
    "\n",
    "#The width of each bar\n",
    "bar_width = 0.35\n",
    "\n",
    "# Create the figure and axis\n",
    "# plt.figure(figsize=(10, 6))\n",
    "ax = plt.gca()\n",
    "\n",
    "# Plot the bars\n",
    "ax.bar(positions - bar_width/2, grouped['Star Wars fan'], bar_width, color='lightskyblue', label='Star Wars fan')\n",
    "ax.bar(positions + bar_width/2, grouped['Star Trek fan'], bar_width, color='coral', label='Star Trek fan', alpha=0.7)\n",
    "\n",
    "#Set labels and xticks\n",
    "ax.set_xticks(positions)\n",
    "ax.set_xticklabels(grouped['Age'])\n",
    "plt.xticks(rotation=45)\n",
    "\n",
    "plt.ylabel('Count')\n",
    "plt.xlabel('Age')\n",
    "plt.title('Comparison of Star Wars and Star Trek Fans by Age')\n",
    "\n",
    "plt.legend()\n",
    "plt.tight_layout()\n",
    "plt.grid(axis='y', linestyle='--', alpha=0.7)\n",
    "plt.legend(bbox_to_anchor=(1.3,1.0))\n",
    "plt.show()\n"
   ]
  },
  {
   "cell_type": "markdown",
   "metadata": {},
   "source": [
    "In terms of preference, the younger demographic (18-29) shows a clear inclination towards Star Wars compared to Star Trek. Conversely, the middle-aged (45-60) and older (>60) cohorts exhibit a higher concentration of Star Trek fans, with their numbers nearly rivaling those of Star Wars fans."
   ]
  },
  {
   "cell_type": "markdown",
   "metadata": {},
   "source": [
    "### The most Favorably/Unfavorably of Star Wars Characters"
   ]
  },
  {
   "cell_type": "code",
   "execution_count": 87,
   "metadata": {},
   "outputs": [
    {
     "data": {
      "text/html": [
       "<div>\n",
       "<style scoped>\n",
       "    .dataframe tbody tr th:only-of-type {\n",
       "        vertical-align: middle;\n",
       "    }\n",
       "\n",
       "    .dataframe tbody tr th {\n",
       "        vertical-align: top;\n",
       "    }\n",
       "\n",
       "    .dataframe thead th {\n",
       "        text-align: right;\n",
       "    }\n",
       "</style>\n",
       "<table border=\"1\" class=\"dataframe\">\n",
       "  <thead>\n",
       "    <tr style=\"text-align: right;\">\n",
       "      <th></th>\n",
       "      <th>RespondentID</th>\n",
       "      <th>Have you seen any of the 6 films in the Star Wars franchise?</th>\n",
       "      <th>Do you consider yourself to be a fan of the Star Wars film franchise?</th>\n",
       "      <th>seen_1</th>\n",
       "      <th>seen_2</th>\n",
       "      <th>seen_3</th>\n",
       "      <th>seen_4</th>\n",
       "      <th>seen_5</th>\n",
       "      <th>seen_6</th>\n",
       "      <th>ranking_1</th>\n",
       "      <th>...</th>\n",
       "      <th>Yoda</th>\n",
       "      <th>Which character shot first?</th>\n",
       "      <th>Are you familiar with the Expanded Universe?</th>\n",
       "      <th>Do you consider yourself to be a fan of the Expanded Universe?</th>\n",
       "      <th>Do you consider yourself to be a fan of the Star Trek franchise?</th>\n",
       "      <th>Gender</th>\n",
       "      <th>Age</th>\n",
       "      <th>Household Income</th>\n",
       "      <th>Education</th>\n",
       "      <th>Location (Census Region)</th>\n",
       "    </tr>\n",
       "  </thead>\n",
       "  <tbody>\n",
       "    <tr>\n",
       "      <th>0</th>\n",
       "      <td>3292879998</td>\n",
       "      <td>True</td>\n",
       "      <td>True</td>\n",
       "      <td>True</td>\n",
       "      <td>True</td>\n",
       "      <td>True</td>\n",
       "      <td>True</td>\n",
       "      <td>True</td>\n",
       "      <td>True</td>\n",
       "      <td>3.0</td>\n",
       "      <td>...</td>\n",
       "      <td>0</td>\n",
       "      <td>I don't understand this question</td>\n",
       "      <td>Yes</td>\n",
       "      <td>No</td>\n",
       "      <td>No</td>\n",
       "      <td>Male</td>\n",
       "      <td>18-29</td>\n",
       "      <td>NaN</td>\n",
       "      <td>High school degree</td>\n",
       "      <td>South Atlantic</td>\n",
       "    </tr>\n",
       "    <tr>\n",
       "      <th>1</th>\n",
       "      <td>3292879538</td>\n",
       "      <td>False</td>\n",
       "      <td>NaN</td>\n",
       "      <td>False</td>\n",
       "      <td>False</td>\n",
       "      <td>False</td>\n",
       "      <td>False</td>\n",
       "      <td>False</td>\n",
       "      <td>False</td>\n",
       "      <td>NaN</td>\n",
       "      <td>...</td>\n",
       "      <td>0</td>\n",
       "      <td>NaN</td>\n",
       "      <td>NaN</td>\n",
       "      <td>NaN</td>\n",
       "      <td>Yes</td>\n",
       "      <td>Male</td>\n",
       "      <td>18-29</td>\n",
       "      <td>$0 - $24,999</td>\n",
       "      <td>Bachelor degree</td>\n",
       "      <td>West South Central</td>\n",
       "    </tr>\n",
       "  </tbody>\n",
       "</table>\n",
       "<p>2 rows × 38 columns</p>\n",
       "</div>"
      ],
      "text/plain": [
       "   RespondentID  Have you seen any of the 6 films in the Star Wars franchise?  \\\n",
       "0    3292879998                                               True              \n",
       "1    3292879538                                              False              \n",
       "\n",
       "  Do you consider yourself to be a fan of the Star Wars film franchise?  \\\n",
       "0                                               True                      \n",
       "1                                                NaN                      \n",
       "\n",
       "   seen_1  seen_2  seen_3  seen_4  seen_5  seen_6  ranking_1  ...  Yoda  \\\n",
       "0    True    True    True    True    True    True        3.0  ...     0   \n",
       "1   False   False   False   False   False   False        NaN  ...     0   \n",
       "\n",
       "        Which character shot first?  \\\n",
       "0  I don't understand this question   \n",
       "1                               NaN   \n",
       "\n",
       "   Are you familiar with the Expanded Universe?  \\\n",
       "0                                           Yes   \n",
       "1                                           NaN   \n",
       "\n",
       "   Do you consider yourself to be a fan of the Expanded Universe?  \\\n",
       "0                                                 No                \n",
       "1                                                NaN                \n",
       "\n",
       "   Do you consider yourself to be a fan of the Star Trek franchise?  Gender  \\\n",
       "0                                                 No                   Male   \n",
       "1                                                Yes                   Male   \n",
       "\n",
       "     Age  Household Income           Education  Location (Census Region)  \n",
       "0  18-29               NaN  High school degree            South Atlantic  \n",
       "1  18-29      $0 - $24,999     Bachelor degree        West South Central  \n",
       "\n",
       "[2 rows x 38 columns]"
      ]
     },
     "execution_count": 87,
     "metadata": {},
     "output_type": "execute_result"
    }
   ],
   "source": [
    "#Renaming columns\n",
    "\n",
    "star_wars = star_wars.rename(columns={\n",
    "        \"Please state whether you view the following characters favorably, unfavorably, or are unfamiliar with him/her.\": \"Han Solo\",\n",
    "        \"Unnamed: 16\": \"Luke Skywalker\",\n",
    "        \"Unnamed: 17\": \"Princess Leia Organa\",\n",
    "        \"Unnamed: 18\": \"Anakin Skywalker\",\n",
    "        \"Unnamed: 19\": \"Obi Wan Kenobi\",\n",
    "        \"Unnamed: 20\": \"Darth Sidious\",\n",
    "        \"Unnamed: 21\": \"Darth Vader\",\n",
    "        \"Unnamed: 22\": \"Lando Calrissian\",\n",
    "        \"Unnamed: 23\": \"Boba Fett\",\n",
    "        \"Unnamed: 24\": \"C-3P0\",\n",
    "        \"Unnamed: 25\": \"R2-D2\",\n",
    "        \"Unnamed: 26\": \"Jar Jar Binks\",\n",
    "        \"Unnamed: 27\": \"Padme Amidala\",\n",
    "        \"Unnamed: 28\": \"Yoda\"\n",
    "        })\n",
    "\n",
    "''' Creating a dictionary with scores in range [-2:2] where:\n",
    "                         -2: very unfavorably\n",
    "                         -1: somewhat unfavorably\n",
    "                         0 - No data, unfamiliar, neutral\n",
    "                         1: somehow favorably\n",
    "                         2: very favorably\n",
    "    \n",
    "'''\n",
    "scores = {\n",
    "        \"Very unfavorably\": -2,\n",
    "        \"Somewhat unfavorably\": -1,\n",
    "        \"Neither favorably nor unfavorably (neutral)\": 0,\n",
    "        \"Somewhat favorably\": 1,\n",
    "        \"Very favorably\": 2,\n",
    "        \"Unfamiliar (N/A)\": 0,\n",
    "         np.nan: 0   \n",
    "}\n",
    "\n",
    "#Applying acores to the characters/columns\n",
    "for c in star_wars.columns[15:29]:\n",
    "    star_wars[c] = star_wars[c].map(scores)\n",
    "\n",
    "star_wars.head(2)"
   ]
  },
  {
   "cell_type": "code",
   "execution_count": 57,
   "metadata": {},
   "outputs": [
    {
     "data": {
      "image/png": "[encoded data removed]",
      "text/plain": [
       "<Figure size 1000x600 with 1 Axes>"
      ]
     },
     "metadata": {},
     "output_type": "display_data"
    }
   ],
   "source": [
    "df_char = star_wars[star_wars.columns[15:29]].sum().sort_values(ascending=True)\n",
    "\n",
    "characters = df_char.index\n",
    "counts = df_char.values\n",
    "\n",
    "# Plotting with Matplotlib\n",
    "plt.figure(figsize=(10, 6))  # Adjust figure size as needed\n",
    "plt.barh(characters, counts, color='lightskyblue')\n",
    "plt.xlabel('Count')\n",
    "plt.ylabel('Character')\n",
    "plt.title('The most Favorably/Unfavorably of Star Wars Characters')\n",
    "plt.show()\n"
   ]
  }
 ],
 "metadata": {
  "kernelspec": {
   "display_name": "Python 3",
   "language": "python",
   "name": "python3"
  },
  "language_info": {
   "codemirror_mode": {
    "name": "ipython",
    "version": 3
   },
   "file_extension": ".py",
   "mimetype": "text/x-python",
   "name": "python",
   "nbconvert_exporter": "python",
   "pygments_lexer": "ipython3",
   "version": "3.11.3"
  }
 },
 "nbformat": 4,
 "nbformat_minor": 0
}
